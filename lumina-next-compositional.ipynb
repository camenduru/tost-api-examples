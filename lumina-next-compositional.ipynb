{
 "cells": [
  {
   "cell_type": "markdown",
   "metadata": {
    "id": "view-in-github"
   },
   "source": [
    "[![Open In Colab](https://colab.research.google.com/assets/colab-badge.svg)](https://colab.research.google.com/github/camenduru/tost-api-examples/blob/main/lumina-next-compositional.ipynb)"
   ]
  },
  {
   "cell_type": "code",
   "execution_count": null,
   "metadata": {},
   "outputs": [],
   "source": [
    "import requests\n",
    "\n",
    "url = \"https://tost.ai/api/v1\"\n",
    "headers = {\n",
    "    \"Content-Type\": \"application/json\",\n",
    "    \"Authorization\": \"API_KEY_HERE\"\n",
    "}\n",
    "data = {\n",
    "    \"app\": \"lumina-next-compositional\",\n",
    "    \"command\": {\n",
    "        \"cap1\": \"Design of a hotel or chalet on the cloud, in the style of light pink, serene oceanic vistas, snailcore, playful machines, 32k UHD, made of rubber, tender depiction of nature\",\n",
    "        \"cap2\": \"Robotic eagle, 8k unreal engine render, wires and gears, photorealistic\",\n",
    "        \"cap3\": \"detailed pen and ink illustration of Boracay Island, by Herge, in the style of tin-tin comics, vibrant colors, detailed, sunny day\",\n",
    "        \"cap4\": \"detailed pen and ink illustration of Boracay Island, by Herge, in the style of tin-tin comics, vibrant colors, detailed, sunny day\",\n",
    "        \"neg_cap\": \"low quality\",\n",
    "        \"resolution\": \"2048x1024 (4x1 Grids)\",\n",
    "        \"num_sampling_steps\": 30,\n",
    "        \"cfg_scale\": 4,\n",
    "        \"solver\": \"midpoint\",\n",
    "        \"t_shift\": 4,\n",
    "        \"seed\": 0,\n",
    "        \"scaling_method\": \"Time-aware\",\n",
    "        \"scaling_watershed\": 0.3,\n",
    "        \"proportional_attn\": true,\n",
    "        \"width_2048\": 2048,\n",
    "        \"width_2560\": 2560,\n",
    "        \"width_3072\": 3072,\n",
    "        \"width_1024\": 1024,\n",
    "        \"width_1536\": 1536,\n",
    "        \"height_2048\": 2048,\n",
    "        \"height_2560\": 2560,\n",
    "        \"height_3072\": 3072,\n",
    "        \"height_1024\": 1024,\n",
    "        \"height_1536\": 1536\n",
    "    }\n",
    "}\n",
    "\n",
    "response = requests.post(url, headers=headers, json=data)\n",
    "print(response.json())"
   ]
  }
 ],
 "metadata": {
  "language_info": {
   "name": "python"
  }
 },
 "nbformat": 4,
 "nbformat_minor": 2
}
