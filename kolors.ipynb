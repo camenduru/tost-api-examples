{
 "cells": [
  {
   "cell_type": "markdown",
   "metadata": {
    "id": "view-in-github"
   },
   "source": [
    "[![Open In Colab](https://colab.research.google.com/assets/colab-badge.svg)](https://colab.research.google.com/github/camenduru/tost-api-examples/blob/main/kolors.ipynb)"
   ]
  },
  {
   "cell_type": "code",
   "execution_count": null,
   "metadata": {},
   "outputs": [],
   "source": [
    "import requests\n",
    "\n",
    "url = \"https://tost.ai/api/v1\"\n",
    "headers = {\n",
    "    \"Content-Type\": \"application/json\",\n",
    "    \"Authorization\": \"API_KEY_HERE\"\n",
    "}\n",
    "data = {\n",
    "    \"app\": \"kolors\",\n",
    "    \"command\": {\n",
    "        \"prompt\": \"tilt shift art of abstract style anime art of a magical girl, 8k, stunning intricate details\",\n",
    "        \"width\": 1024,\n",
    "        \"height\": 1024,\n",
    "        \"num_inference_steps\": 50,\n",
    "        \"guidance_scale\": 4,\n",
    "        \"num_images_per_prompt\": 1,\n",
    "        \"seed\": 0\n",
    "    }\n",
    "}\n",
    "\n",
    "response = requests.post(url, headers=headers, json=data)\n",
    "print(response.json())"
   ]
  }
 ],
 "metadata": {
  "language_info": {
   "name": "python"
  }
 },
 "nbformat": 4,
 "nbformat_minor": 2
}
