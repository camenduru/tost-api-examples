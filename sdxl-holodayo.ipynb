{
 "cells": [
  {
   "cell_type": "markdown",
   "metadata": {
    "id": "view-in-github"
   },
   "source": [
    "[![Open In Colab](https://colab.research.google.com/assets/colab-badge.svg)](https://colab.research.google.com/github/camenduru/tost-api-examples/blob/main/sdxl-holodayo.ipynb)"
   ]
  },
  {
   "cell_type": "code",
   "execution_count": null,
   "metadata": {},
   "outputs": [],
   "source": [
    "import requests\n",
    "\n",
    "url = \"https://tost.ai/api/v1\"\n",
    "headers = {\n",
    "    \"Content-Type\": \"application/json\",\n",
    "    \"Authorization\": \"API_KEY_HERE\"\n",
    "}\n",
    "data = {\n",
    "    \"app\": \"sdxl-holodayo\",\n",
    "    \"command\": {\n",
    "        \"positive_prompt\": \"1girl, nakiri ayame, nakiri ayame (1st costume), hololive, solo, upper body, v, smile, looking at viewer, outdoors, night, masterpiece, best quality, very aesthetic, absurdres\",\n",
    "        \"negative_prompt\": \"(low quality, worst quality:1.2), very displeasing, 3d, watermark, signature, ugly, poorly drawn\",\n",
    "        \"seed\": 0,\n",
    "        \"steps\": 28,\n",
    "        \"cfg\": 7,\n",
    "        \"sampler_name\": \"euler\",\n",
    "        \"scheduler\": \"simple\",\n",
    "        \"width\": 832,\n",
    "        \"height\": 1216\n",
    "    }\n",
    "}\n",
    "\n",
    "response = requests.post(url, headers=headers, json=data)\n",
    "print(response.json())"
   ]
  }
 ],
 "metadata": {
  "language_info": {
   "name": "python"
  }
 },
 "nbformat": 4,
 "nbformat_minor": 2
}
