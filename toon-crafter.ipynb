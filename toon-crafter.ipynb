{
 "cells": [
  {
   "cell_type": "markdown",
   "metadata": {
    "id": "view-in-github"
   },
   "source": [
    "[![Open In Colab](https://colab.research.google.com/assets/colab-badge.svg)](https://colab.research.google.com/github/camenduru/tost-api-examples/blob/main/toon-crafter.ipynb)"
   ]
  },
  {
   "cell_type": "code",
   "execution_count": null,
   "metadata": {},
   "outputs": [],
   "source": [
    "import requests\n",
    "\n",
    "url = \"https://tost.ai/api/v1\"\n",
    "headers = {\n",
    "    \"Content-Type\": \"application/json\",\n",
    "    \"Authorization\": \"API_KEY_HERE\"\n",
    "}\n",
    "data = {\n",
    "    \"app\": \"toon-crafter\",\n",
    "    \"command\": {\n",
    "        \"i2v_input_image1\": \"https://i.ibb.co/BzMd4g3/034133.jpg\",\n",
    "        \"i2v_input_text\": \"an anime scene\",\n",
    "        \"i2v_steps\": 50,\n",
    "        \"i2v_cfg_scale\": 7.5,\n",
    "        \"i2v_eta\": 1,\n",
    "        \"i2v_motion\": 10,\n",
    "        \"i2v_seed\": 789,\n",
    "        \"i2v_input_image2\": \"https://i.ibb.co/vhsYCX0/034147.jpg\"\n",
    "    }\n",
    "}\n",
    "\n",
    "response = requests.post(url, headers=headers, json=data)\n",
    "print(response.json())"
   ]
  }
 ],
 "metadata": {
  "language_info": {
   "name": "python"
  }
 },
 "nbformat": 4,
 "nbformat_minor": 2
}
