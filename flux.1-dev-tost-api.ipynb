{
 "cells": [
  {
    "cell_type": "markdown",
    "metadata": {
      "id": "view-in-github"
    },
    "source": [
      "[![Open In Colab](https://colab.research.google.com/assets/colab-badge.svg)](https://colab.research.google.com/github/camenduru/tost-api-examples/blob/main/flux.1-dev-tost-api.ipynb)"
    ]
  },
  {
   "cell_type": "code",
   "execution_count": null,
   "metadata": {},
   "outputs": [],
   "source": [
    "import requests\n",
    "\n",
    "url = \"https://dev.tost.ai/api/v1\"\n",
    "headers = {\n",
    "    \"Content-Type\": \"application/json\"\n",
    "    \"Authorization\": \"API_KEY_HERE\",\n",
    "}\n",
    "data = {\n",
    "    \"app\": \"flux.1-dev\",\n",
    "    \"command\": {\n",
    "        \"positive_prompt\": \"cute anime cat\",\n",
    "        \"steps\": 20,\n",
    "        \"guidance\": 3.5,\n",
    "        \"lora_file\": \"xlabs_realism.safetensors\",\n",
    "        \"lora_strength_model\": 1,\n",
    "        \"lora_strength_clip\": 1,\n",
    "        \"sampler_name\": \"euler\",\n",
    "        \"scheduler\": \"simple\",\n",
    "        \"width\": 1024,\n",
    "        \"height\": 1024\n",
    "    }\n",
    "}\n",
    "\n",
    "response = requests.post(url, headers=headers, json=data)\n",
    "print(response.json())"
   ]
  }
 ],
 "metadata": {
  "language_info": {
   "name": "python"
  }
 },
 "nbformat": 4,
 "nbformat_minor": 2
}
