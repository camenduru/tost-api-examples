{
 "cells": [
  {
   "cell_type": "markdown",
   "metadata": {
    "id": "view-in-github"
   },
   "source": [
    "[![Open In Colab](https://colab.research.google.com/assets/colab-badge.svg)](https://colab.research.google.com/github/camenduru/tost-api-examples/blob/main/v1/in-context-lora.ipynb)"
   ]
  },
  {
   "cell_type": "code",
   "execution_count": null,
   "metadata": {},
   "outputs": [],
   "source": [
    "import requests\n",
    "\n",
    "url = \"https://tost.ai/api/v1\"\n",
    "headers = {\n",
    "    \"Content-Type\": \"application/json\",\n",
    "    \"Authorization\": \"API_KEY_HERE\"\n",
    "}\n",
    "data = {\n",
    "    \"app\": \"in-context-lora\",\n",
    "    \"command\": {\n",
    "        \"input_image_check\": \"https://files.catbox.moe/z6mdko.png\",\n",
    "        \"positive_prompt\": \"This pair of images shows a pattern as [IMAGE1] a person holding a packaging bag [IMAGE2]; the pattern on the packaging bag in [IMAGE2] must refer to [IMAGE1]; [IMAGE1] a person holding a packaging bag; the packaging bag in [IMAGE2] is printed with [IMAGE1]; [IMAGE2] a person holds a packaging bag with the [IMAGE1] pattern printed on it.\",\n",
    "        \"seed\": 0,\n",
    "        \"steps\": 40,\n",
    "        \"guidance\": 3.5,\n",
    "        \"sampler_name\": \"euler\",\n",
    "        \"scheduler\": \"simple\",\n",
    "        \"max_shift\": 1.15,\n",
    "        \"base_shift\": 0.50,\n",
    "        \"patch_mode\": \"auto\",\n",
    "        \"output_length\": 1536,\n",
    "        \"patch_color\": \"#FF0000\",\n",
    "        \"custom_lora1_url\": \"https://huggingface.co/camenduru/FLUX.1-dev/resolve/main/xlabs_flux_realism_lora_comfui.safetensors\",\n",
    "        \"custom_lora1_strength_model\": 1.0,\n",
    "        \"custom_lora1_strength_clip\": 1.0,\n",
    "        \"custom_lora2_url\": \"https://huggingface.co/camenduru/FLUX.1-dev/resolve/main/IC_TRY_ON_v3_e4.safetensors\",\n",
    "        \"custom_lora2_strength_model\": 0.9,\n",
    "        \"custom_lora2_strength_clip\": 0.9\n",
    "    }\n",
    "}\n",
    "\n",
    "response = requests.post(url, headers=headers, json=data)\n",
    "print(response.json())"
   ]
  }
 ],
 "metadata": {
  "language_info": {
   "name": "python"
  }
 },
 "nbformat": 4,
 "nbformat_minor": 2
}
