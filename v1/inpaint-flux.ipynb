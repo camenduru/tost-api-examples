{
 "cells": [
  {
   "cell_type": "markdown",
   "metadata": {
    "id": "view-in-github"
   },
   "source": [
    "[![Open In Colab](https://colab.research.google.com/assets/colab-badge.svg)](https://colab.research.google.com/github/camenduru/tost-api-examples/blob/main/v1/inpaint-flux.ipynb)"
   ]
  },
  {
   "cell_type": "code",
   "execution_count": null,
   "metadata": {},
   "outputs": [],
   "source": [
    "import requests\n",
    "\n",
    "url = \"https://tost.ai/api/v1\"\n",
    "headers = {\n",
    "    \"Content-Type\": \"application/json\",\n",
    "    \"Authorization\": \"API_KEY_HERE\"\n",
    "}\n",
    "data = {\n",
    "    \"app\": \"inpaint-flux\",\n",
    "    \"command\": {\n",
    "        \"input_image_check\": \"https://files.catbox.moe/7n5qmt.png\",\n",
    "        \"input_mask\": \"https://files.catbox.moe/78f9vm.png\",\n",
    "        \"positive_prompt\": \"hat\",\n",
    "        \"negative_prompt\": \"bad, ugly, deformed\",\n",
    "        \"controlnet_strength\": 1.0,\n",
    "        \"seed\": 0,\n",
    "        \"steps\": 25,\n",
    "        \"guidance\": 3.5,\n",
    "        \"sampler_name\": \"euler\",\n",
    "        \"scheduler\": \"simple\",\n",
    "        \"cfg\": 1.0\n",
    "    }\n",
    "}\n",
    "\n",
    "response = requests.post(url, headers=headers, json=data)\n",
    "print(response.json())"
   ]
  }
 ],
 "metadata": {
  "language_info": {
   "name": "python"
  }
 },
 "nbformat": 4,
 "nbformat_minor": 2
}
