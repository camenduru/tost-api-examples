{
 "cells": [
  {
   "cell_type": "markdown",
   "metadata": {
    "id": "view-in-github"
   },
   "source": [
    "[![Open In Colab](https://colab.research.google.com/assets/colab-badge.svg)](https://colab.research.google.com/github/camenduru/tost-api-examples/blob/main/v1/flux.1-dev-controlnet-depth.ipynb)"
   ]
  },
  {
   "cell_type": "code",
   "execution_count": null,
   "metadata": {},
   "outputs": [],
   "source": [
    "import requests\n",
    "\n",
    "url = \"https://tost.ai/api/v1\"\n",
    "headers = {\n",
    "    \"Content-Type\": \"application/json\",\n",
    "    \"Authorization\": \"API_KEY_HERE\"\n",
    "}\n",
    "data = {\n",
    "    \"app\": \"flux.1-dev-controlnet-depth\",\n",
    "    \"command\": {\n",
    "        \"input_image_check\": \"https://files.catbox.moe/hlln10.jpeg\",\n",
    "        \"positive_prompt\": \"beautiful a3r0ra in balenciaga style, fashion, vogue image\",\n",
    "        \"negative_prompt\": \"bad photo\",\n",
    "        \"seed\": 0,\n",
    "        \"steps\": 25,\n",
    "        \"guidance\": 3.5,\n",
    "        \"lora_strength_model\": 0,\n",
    "        \"lora_strength_clip\": 0,\n",
    "        \"custom_lora_strength_model\": 1,\n",
    "        \"custom_lora_strength_clip\": 1,\n",
    "        \"controlnet_strength\": 0.7,\n",
    "        \"final_width\": 1400,\n",
    "        \"custom_lora_url\": \"https://files.catbox.moe/1fqbpb.safetensors\",\n",
    "        \"lora_file\": \"xlabs_realism.safetensors\"\n",
    "    }\n",
    "}\n",
    "\n",
    "response = requests.post(url, headers=headers, json=data)\n",
    "print(response.json())"
   ]
  }
 ],
 "metadata": {
  "language_info": {
   "name": "python"
  }
 },
 "nbformat": 4,
 "nbformat_minor": 2
}
