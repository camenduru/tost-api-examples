{
 "cells": [
  {
   "cell_type": "markdown",
   "metadata": {
    "id": "view-in-github"
   },
   "source": [
    "[![Open In Colab](https://colab.research.google.com/assets/colab-badge.svg)](https://colab.research.google.com/github/camenduru/tost-api-examples/blob/main/v1/comfyui-ultralytics-upscaler.ipynb)"
   ]
  },
  {
   "cell_type": "code",
   "execution_count": null,
   "metadata": {},
   "outputs": [],
   "source": [
    "import requests\n",
    "\n",
    "url = \"https://tost.ai/api/v1\"\n",
    "headers = {\n",
    "    \"Content-Type\": \"application/json\",\n",
    "    \"Authorization\": \"API_KEY_HERE\"\n",
    "}\n",
    "data = {\n",
    "    \"app\": \"comfyui-ultralytics-upscaler\",\n",
    "    \"command\": {\n",
    "        \"input_image_check\": \"https://files.catbox.moe/frdc2j.jpg\",\n",
    "        \"positive_prompt\": \"detailed, realistic, masterpiece, uhd, 8k\",\n",
    "        \"negative_prompt\": \"blurry\",\n",
    "        \"inspire_seed\": 9,\n",
    "        \"inspire_steps\": 4,\n",
    "        \"inspire_cfg\": 1,\n",
    "        \"inspire_sampler_name\": \"dpmpp_sde\",\n",
    "        \"inspire_scheduler\": \"karras\",\n",
    "        \"inspire_denoise\": 0.6,\n",
    "        \"inspire_noise_mode\": \"GPU(=A1111)\",\n",
    "        \"inspire_batch_seed_mode\": \"incremental\",\n",
    "        \"inspire_variation_seed\": 0,\n",
    "        \"inspire_variation_strength\": 0,\n",
    "        \"inspire_variation_method\": \"linear\",\n",
    "        \"scale_factor\": 4,\n",
    "        \"blur_strength\": 1,\n",
    "        \"strength\": 0.6,\n",
    "        \"start_percent\": 0,\n",
    "        \"end_percent\": 1,\n",
    "        \"tile_method\": \"Mixture of Diffusers\",\n",
    "        \"tile_overlap\": 128,\n",
    "        \"tile_size\": 768,\n",
    "        \"threshold\": 0.2,\n",
    "        \"dilation\": 5,\n",
    "        \"crop_factor\": 2,\n",
    "        \"drop_size\": 10,\n",
    "        \"labels\": \"all\",\n",
    "        \"detailer_guide_size\": 1024,\n",
    "        \"detailer_guide_size_for_bbox\": true,\n",
    "        \"detailer_max_size\": 1280,\n",
    "        \"detailer_seed\": 4,\n",
    "        \"detailer_steps\": 4,\n",
    "        \"detailer_cfg\": 1.5,\n",
    "        \"detailer_sampler_name\": \"dpmpp_sde\",\n",
    "        \"detailer_scheduler\": \"karras\",\n",
    "        \"detailer_denoise\": 0.42,\n",
    "        \"detailer_feather\": 5,\n",
    "        \"detailer_noise_mask\": true,\n",
    "        \"detailer_force_inpaint\": true,\n",
    "        \"detailer_cycle\": 1,\n",
    "        \"detailer_inpaint_model\": false,\n",
    "        \"detailer_noise_mask_feather\": 20,\n",
    "        \"color_method\": \"hm-mvgd-hm\",\n",
    "        \"blend_factor\": 0.5,\n",
    "        \"blend_mode\": \"normal\",\n",
    "        \"blending_mode\": \"color\",\n",
    "        \"blending_blend_percentage\": 1,\n",
    "        \"vram\": 48,\n",
    "        \"upscale_mp\": 4,\n",
    "        \"w_tiles\": 4,\n",
    "        \"h_tiles\": 4,\n",
    "        \"downscale_by\": 1\n",
    "    }\n",
    "}\n",
    "\n",
    "response = requests.post(url, headers=headers, json=data)\n",
    "print(response.json())"
   ]
  }
 ],
 "metadata": {
  "language_info": {
   "name": "python"
  }
 },
 "nbformat": 4,
 "nbformat_minor": 2
}
