{
 "cells": [
  {
   "cell_type": "markdown",
   "metadata": {
    "id": "view-in-github"
   },
   "source": [
    "[![Open In Colab](https://colab.research.google.com/assets/colab-badge.svg)](https://colab.research.google.com/github/camenduru/tost-api-examples/blob/main/v1/trellis-multi.ipynb)"
   ]
  },
  {
   "cell_type": "code",
   "execution_count": null,
   "metadata": {},
   "outputs": [],
   "source": [
    "import requests\n",
    "\n",
    "url = \"https://tost.ai/api/v1\"\n",
    "headers = {\n",
    "    \"Content-Type\": \"application/json\",\n",
    "    \"Authorization\": \"API_KEY_HERE\"\n",
    "}\n",
    "data = {\n",
    "    \"app\": \"trellis-multi\",\n",
    "    \"command\": {\n",
    "        \"images\": [\n",
    "            {\n",
    "                \"url\": \"https://pomf2.lain.la/f/t7d7rdne.webp\"\n",
    "            },\n",
    "            {\n",
    "                \"url\": \"https://pomf2.lain.la/f/krpsh5z.webp\"\n",
    "            },\n",
    "            {\n",
    "                \"url\": \"https://pomf2.lain.la/f/oao1yxe9.webp\"\n",
    "            },\n",
    "            {\n",
    "                \"url\": \"https://pomf2.lain.la/f/sh8udc37.webp\"\n",
    "            },\n",
    "            {\n",
    "                \"url\": \"https://pomf2.lain.la/f/v7pg060y.webp\"\n",
    "            },\n",
    "            {\n",
    "                \"url\": \"https://pomf2.lain.la/f/f9hpm8em.webp\"\n",
    "            }\n",
    "        ],\n",
    "        \"seed\": 0,\n",
    "        \"randomize_seed\": True,\n",
    "        \"ss_guidance_strength\": 7.5,\n",
    "        \"ss_sampling_steps\": 12,\n",
    "        \"slat_guidance_strength\": 3.0,\n",
    "        \"slat_sampling_steps\": 12,\n",
    "        \"mesh_simplify\": 0.95,\n",
    "        \"texture_size\": 1024,\n",
    "        \"preprocess_image\": True\n",
    "    }\n",
    "}\n",
    "\n",
    "response = requests.post(url, headers=headers, json=data)\n",
    "print(response.json())"
   ]
  },
  {
   "cell_type": "code",
   "execution_count": null,
   "metadata": {},
   "outputs": [],
   "source": [
    "# Example API Response \"status\": \"DONE\"\n",
    "{\n",
    "  \"jobId\": \"6753f8da0b72c942725602c5\",\n",
    "  \"result\": \"['https://ewr1.vultrobjects.com/upload.tost.ai/b414f23d-bbfc-4298-be67-39b110558b53.mp4', 'https://ewr1.vultrobjects.com/upload.tost.ai/6fb12acf-7751-4ebb-9ef2-8ba1861f8651.glb', 'https://ewr1.vultrobjects.com/upload.tost.ai/b6922b45-8cf7-4d9e-8fec-a30faf93a59d.png']\",\n",
    "  \"status\": \"DONE\"\n",
    "}"
   ]
  }
 ],
 "metadata": {
  "language_info": {
   "name": "python"
  }
 },
 "nbformat": 4,
 "nbformat_minor": 2
}
