{
 "cells": [
  {
   "cell_type": "markdown",
   "metadata": {
    "id": "view-in-github"
   },
   "source": [
    "[![Open In Colab](https://colab.research.google.com/assets/colab-badge.svg)](https://colab.research.google.com/github/camenduru/tost-api-examples/blob/main/v1/flux.1-dev-upscaler.ipynb)"
   ]
  },
  {
   "cell_type": "code",
   "execution_count": null,
   "metadata": {},
   "outputs": [],
   "source": [
    "import requests\n",
    "\n",
    "url = \"https://tost.ai/api/v1\"\n",
    "headers = {\n",
    "    \"Content-Type\": \"application/json\",\n",
    "    \"Authorization\": \"API_KEY_HERE\"\n",
    "}\n",
    "data = {\n",
    "    \"app\": \"flux.1-dev-upscaler\",\n",
    "    \"command\": {\n",
    "        \"input_image_check\": \"https://files.catbox.moe/m2vlnx.jpg\",\n",
    "        \"positive_prompt\": \"professional raw photo\",\n",
    "        \"seed\": 0,\n",
    "        \"upscale_method\": \"lanczos\",\n",
    "        \"scale_by\": 5,\n",
    "        \"strength\": 0.65,\n",
    "        \"steps\": 25,\n",
    "        \"cfg\": 1,\n",
    "        \"guidance\": 3.5,\n",
    "        \"sampler_name\": \"euler\",\n",
    "        \"scheduler\": \"normal\"\n",
    "    }\n",
    "}\n",
    "\n",
    "response = requests.post(url, headers=headers, json=data)\n",
    "print(response.json())"
   ]
  }
 ],
 "metadata": {
  "language_info": {
   "name": "python"
  }
 },
 "nbformat": 4,
 "nbformat_minor": 2
}
