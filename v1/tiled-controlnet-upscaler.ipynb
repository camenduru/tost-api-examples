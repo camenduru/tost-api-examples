{
 "cells": [
  {
   "cell_type": "markdown",
   "metadata": {
    "id": "view-in-github"
   },
   "source": [
    "[![Open In Colab](https://colab.research.google.com/assets/colab-badge.svg)](https://colab.research.google.com/github/camenduru/tost-api-examples/blob/main/v1/tiled-controlnet-upscaler.ipynb)"
   ]
  },
  {
   "cell_type": "code",
   "execution_count": null,
   "metadata": {},
   "outputs": [],
   "source": [
    "import requests\n",
    "\n",
    "url = \"https://tost.ai/api/v1\"\n",
    "headers = {\n",
    "    \"Content-Type\": \"application/json\",\n",
    "    \"Authorization\": \"API_KEY_HERE\"\n",
    "}\n",
    "data = {\n",
    "    \"app\": \"tiled-controlnet-upscaler\",\n",
    "    \"command\": {\n",
    "        \"input_image_check\": \"https://i.ibb.co/DtT5tq8/gwq1vm.png\",\n",
    "        \"img2img_prompt\": \"masterpiece, best quality, highres\",\n",
    "        \"img2img_negative_prompt\": \"worst quality, low quality, normal quality\",\n",
    "        \"img2img_steps\": 18,\n",
    "        \"img2img_cfg_scale\": 6,\n",
    "        \"img2img_seed\": 9000,\n",
    "        \"img2img_sampler_name\": \"DPM++ 3M SDE\",\n",
    "        \"img2img_denoising_strength\": 0.35,\n",
    "        \"img2img_scale_by\": 2,\n",
    "        \"tiled_diffusion_tile_width\": 112,\n",
    "        \"tiled_diffusion_tile_height\": 144,\n",
    "        \"tiled_diffusion_overlap\": 4,\n",
    "        \"tiled_diffusion_tile_batch_size\": 8,\n",
    "        \"tiled_diffusion_scale_factor\": 2,\n",
    "        \"tiled_vae_encoder_tile_size\": 2048,\n",
    "        \"tiled_vae_decoder_tile_size\": 128,\n",
    "        \"controlnet_tile_weight\": 0.6\n",
    "    }\n",
    "}\n",
    "\n",
    "response = requests.post(url, headers=headers, json=data)\n",
    "print(response.json())"
   ]
  }
 ],
 "metadata": {
  "language_info": {
   "name": "python"
  }
 },
 "nbformat": 4,
 "nbformat_minor": 2
}
