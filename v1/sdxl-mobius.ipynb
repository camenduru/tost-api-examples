{
 "cells": [
  {
   "cell_type": "markdown",
   "metadata": {
    "id": "view-in-github"
   },
   "source": [
    "[![Open In Colab](https://colab.research.google.com/assets/colab-badge.svg)](https://colab.research.google.com/github/camenduru/tost-api-examples/blob/main/v1/sdxl-mobius.ipynb)"
   ]
  },
  {
   "cell_type": "code",
   "execution_count": null,
   "metadata": {},
   "outputs": [],
   "source": [
    "import requests\n",
    "\n",
    "url = \"https://tost.ai/api/v1\"\n",
    "headers = {\n",
    "    \"Content-Type\": \"application/json\",\n",
    "    \"Authorization\": \"API_KEY_HERE\"\n",
    "}\n",
    "data = {\n",
    "    \"app\": \"sdxl-mobius\",\n",
    "    \"command\": {\n",
    "        \"positive_prompt\": \"Vintage analog, Close up portrait of a Medieval woman in an elaborate dress, in front of an army of mounted Knights. Cinematic. Style by J.C. Leyendecker. Canon 5d Mark 4, Kodak Ektar\",\n",
    "        \"negative_prompt\": \"text, watermark, signature, anime, animation, cgi, manga, drawiing\",\n",
    "        \"seed\": 0,\n",
    "        \"steps\": 30,\n",
    "        \"cfg\": 3.5,\n",
    "        \"sampler_name\": \"dpmpp_2m_sde_gpu\",\n",
    "        \"scheduler\": \"simple\",\n",
    "        \"width\": 1600,\n",
    "        \"height\": 832\n",
    "    }\n",
    "}\n",
    "\n",
    "response = requests.post(url, headers=headers, json=data)\n",
    "print(response.json())"
   ]
  }
 ],
 "metadata": {
  "language_info": {
   "name": "python"
  }
 },
 "nbformat": 4,
 "nbformat_minor": 2
}
