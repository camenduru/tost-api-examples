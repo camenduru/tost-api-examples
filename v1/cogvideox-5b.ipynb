{
    "cells": [
     {
      "cell_type": "markdown",
      "metadata": {
       "id": "view-in-github"
      },
      "source": [
       "[![Open In Colab](https://colab.research.google.com/assets/colab-badge.svg)](https://colab.research.google.com/github/camenduru/tost-api-examples/blob/main/v1/cogvideox-5b.ipynb)"
      ]
     },
     {
      "cell_type": "code",
      "execution_count": null,
      "metadata": {},
      "outputs": [],
      "source": [
       "import requests\n",
       "\n",
       "url = \"https://tost.ai/api/v1\"\n",
       "headers = {\n",
       "    \"Content-Type\": \"application/json\",\n",
       "    \"Authorization\": \"API_KEY_HERE\"\n",
       "}\n",
       "data = {\n",
       "    \"app\": \"cogvideox-5b\",\n",
       "    \"command\": {\n",
       "        \"prompt\": \"A golden retriever, sporting sleek black sunglasses, with its lengthy fur flowing in the breeze, sprints playfully across a rooftop terrace, recently refreshed by a light rain. The scene unfolds from a distance, the dog's energetic bounds growing larger as it approaches the camera, its tail wagging with unrestrained joy, while droplets of water glisten on the concrete behind it. The overcast sky provides a dramatic backdrop, emphasizing the vibrant golden coat of the canine as it dashes towards the viewer.\",\n",
       "        \"seed\": 0,\n",
       "        \"num_inference_steps\": 50,\n",
       "        \"num_frames\": 49,\n",
       "        \"use_dynamic_cfg\": true,\n",
       "        \"guidance_scale\": 7.0,\n",
       "        \"width\": 720,\n",
       "        \"height\": 480\n",
       "    }\n",
       "}\n",
       "\n",
       "response = requests.post(url, headers=headers, json=data)\n",
       "print(response.json())"
      ]
     }
    ],
    "metadata": {
     "language_info": {
      "name": "python"
     }
    },
    "nbformat": 4,
    "nbformat_minor": 2
   }
   