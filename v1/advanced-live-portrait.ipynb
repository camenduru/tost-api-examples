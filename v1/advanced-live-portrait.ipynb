{
 "cells": [
  {
   "cell_type": "markdown",
   "metadata": {
    "id": "view-in-github"
   },
   "source": [
    "[![Open In Colab](https://colab.research.google.com/assets/colab-badge.svg)](https://colab.research.google.com/github/camenduru/tost-api-examples/blob/main/v1/advanced-live-portrait.ipynb)"
   ]
  },
  {
   "cell_type": "code",
   "execution_count": null,
   "metadata": {},
   "outputs": [],
   "source": [
    "import requests\n",
    "\n",
    "url = \"https://tost.ai/api/v1\"\n",
    "headers = {\n",
    "    \"Content-Type\": \"application/json\",\n",
    "    \"Authorization\": \"API_KEY_HERE\"\n",
    "}\n",
    "data = {\n",
    "    \"app\": \"advanced-live-portrait\",\n",
    "    \"command\": {\n",
    "        \"input_image_check\": \"https://files.catbox.moe/f1cpjc.png\",\n",
    "        \"rotate_pitch\": 0.0,\n",
    "        \"rotate_yaw\": 0.0,\n",
    "        \"rotate_roll\": 0.0,\n",
    "        \"blink\": 0.0,\n",
    "        \"eyebrow\": 0.0,\n",
    "        \"wink\": 0.0,\n",
    "        \"pupil_x\": 0.0,\n",
    "        \"pupil_y\": 0.0,\n",
    "        \"aaa\": 0.0,\n",
    "        \"eee\": 0.0,\n",
    "        \"woo\": 0.0,\n",
    "        \"smile\": 1.3,\n",
    "        \"src_ratio\": 1.0,\n",
    "        \"sample_ratio\": 1.0,\n",
    "        \"sample_parts\": \"OnlyExpression\",\n",
    "        \"crop_factor\": 1.7\n",
    "    }\n",
    "}\n",
    "\n",
    "response = requests.post(url, headers=headers, json=data)\n",
    "print(response.json())"
   ]
  }
 ],
 "metadata": {
  "language_info": {
   "name": "python"
  }
 },
 "nbformat": 4,
 "nbformat_minor": 2
}
