{
 "cells": [
  {
   "cell_type": "markdown",
   "metadata": {
    "id": "view-in-github"
   },
   "source": [
    "[![Open In Colab](https://colab.research.google.com/assets/colab-badge.svg)](https://colab.research.google.com/github/camenduru/tost-api-examples/blob/main/v1/omnigen.ipynb)"
   ]
  },
  {
   "cell_type": "code",
   "execution_count": null,
   "metadata": {},
   "outputs": [],
   "source": [
    "import requests\n",
    "\n",
    "url = \"https://tost.ai/api/v1\"\n",
    "headers = {\n",
    "    \"Content-Type\": \"application/json\",\n",
    "    \"Authorization\": \"API_KEY_HERE\"\n",
    "}\n",
    "data = {\n",
    "    \"app\": \"omnigen\",\n",
    "    \"command\": {\n",
    "        \"image_1\": \"https://files.catbox.moe/zuus35.jpg\",\n",
    "        \"image_2\": \"https://files.catbox.moe/rh3k3y.webp\",\n",
    "        \"image_3\": \"\",\n",
    "        \"prompt\": \"A blond woman in wearing a long pink dress standing in a park. A woman is image_1 The pink dress is image_2.\",\n",
    "        \"guidance_scale\": 3.5,\n",
    "        \"img_guidance_scale\": 1.8,\n",
    "        \"num_inference_steps\": 50,\n",
    "        \"separate_cfg_infer\": true,\n",
    "        \"offload_model\": false,\n",
    "        \"use_input_image_size_as_output\": false,\n",
    "        \"width\": 768,\n",
    "        \"height\": 1024,\n",
    "        \"seed\": 0,\n",
    "        \"max_input_image_size\": 1024\n",
    "    }\n",
    "}\n",
    "\n",
    "response = requests.post(url, headers=headers, json=data)\n",
    "print(response.json())"
   ]
  }
 ],
 "metadata": {
  "language_info": {
   "name": "python"
  }
 },
 "nbformat": 4,
 "nbformat_minor": 2
}
