{
 "cells": [
  {
   "cell_type": "markdown",
   "metadata": {
    "id": "view-in-github"
   },
   "source": [
    "[![Open In Colab](https://colab.research.google.com/assets/colab-badge.svg)](https://colab.research.google.com/github/camenduru/tost-api-examples/blob/main/v1/idm-vton.ipynb)"
   ]
  },
  {
   "cell_type": "code",
   "execution_count": null,
   "metadata": {},
   "outputs": [],
   "source": [
    "import requests\n",
    "\n",
    "url = \"https://tost.ai/api/v1\"\n",
    "headers = {\n",
    "    \"Content-Type\": \"application/json\",\n",
    "    \"Authorization\": \"API_KEY_HERE\"\n",
    "}\n",
    "data = {\n",
    "    \"app\": \"idm-vton\",\n",
    "    \"command\": {\n",
    "        \"input_image_check\": \"https://files.catbox.moe/h7a327.jpg\",\n",
    "        \"garment_image\": \"https://files.catbox.moe/rso6bz.jpg\",\n",
    "        \"garment_description\": \"Short Sleeve Round Neck T-shirt\",\n",
    "        \"use_auto_mask\": True,\n",
    "        \"use_auto_crop\": False,\n",
    "        \"denoise_steps\": 30,\n",
    "        \"seed\": 0\n",
    "    }\n",
    "}\n",
    "\n",
    "response = requests.post(url, headers=headers, json=data)\n",
    "print(response.json())"
   ]
  }
 ],
 "metadata": {
  "language_info": {
   "name": "python"
  }
 },
 "nbformat": 4,
 "nbformat_minor": 2
}
