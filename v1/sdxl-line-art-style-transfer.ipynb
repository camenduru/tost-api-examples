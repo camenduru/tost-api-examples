{
 "cells": [
  {
   "cell_type": "markdown",
   "metadata": {
    "id": "view-in-github"
   },
   "source": [
    "[![Open In Colab](https://colab.research.google.com/assets/colab-badge.svg)](https://colab.research.google.com/github/camenduru/tost-api-examples/blob/main/v1/sdxl-line-art-style-transfer.ipynb)"
   ]
  },
  {
   "cell_type": "code",
   "execution_count": null,
   "metadata": {},
   "outputs": [],
   "source": [
    "import requests\n",
    "\n",
    "url = \"https://tost.ai/api/v1\"\n",
    "headers = {\n",
    "    \"Content-Type\": \"application/json\",\n",
    "    \"Authorization\": \"API_KEY_HERE\"\n",
    "}\n",
    "data = {\n",
    "    \"app\": \"sdxl-line-art-style-transfer\",\n",
    "    \"command\": {\n",
    "        \"input_image\": \"https://files.catbox.moe/kxihm6.jpg\",\n",
    "        \"style_image1\": \"https://files.catbox.moe/bdzw7s.png\",\n",
    "        \"style_image2\": \"https://files.catbox.moe/59u8q5.png\",\n",
    "        \"style_image3\": \"https://files.catbox.moe/ctpfk2.png\",\n",
    "        \"style_image4\": \"https://files.catbox.moe/gjy7lc.png\",\n",
    "        \"enable_image_caption\": False,\n",
    "        \"caption_type\": \"Booru tag list\",\n",
    "        \"caption_length\": \"short\",\n",
    "        \"low_vram\": True,\n",
    "        \"positive_prompt\": \"solo, simple_background, white_background, monochrome, no_humans, robot, mecha, science_fiction\",\n",
    "        \"negative_prompt\": \"blurry\",\n",
    "        \"seed\": 0,\n",
    "        \"steps\": 20,\n",
    "        \"cfg\": 5.3,\n",
    "        \"sampler_name\": \"dpmpp_sde\",\n",
    "        \"scheduler\": \"karras\",\n",
    "        \"width\": 1024,\n",
    "        \"height\": 1024\n",
    "    }\n",
    "}\n",
    "\n",
    "response = requests.post(url, headers=headers, json=data)\n",
    "print(response.json())"
   ]
  }
 ],
 "metadata": {
  "language_info": {
   "name": "python"
  }
 },
 "nbformat": 4,
 "nbformat_minor": 2
}
