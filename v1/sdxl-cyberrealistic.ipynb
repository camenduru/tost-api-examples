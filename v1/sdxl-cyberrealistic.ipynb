{
 "cells": [
  {
   "cell_type": "markdown",
   "metadata": {
    "id": "view-in-github"
   },
   "source": [
    "[![Open In Colab](https://colab.research.google.com/assets/colab-badge.svg)](https://colab.research.google.com/github/camenduru/tost-api-examples/blob/main/v1/sdxl-cyberrealistic.ipynb)"
   ]
  },
  {
   "cell_type": "code",
   "execution_count": null,
   "metadata": {},
   "outputs": [],
   "source": [
    "import requests\n",
    "\n",
    "url = \"https://tost.ai/api/v1\"\n",
    "headers = {\n",
    "    \"Content-Type\": \"application/json\",\n",
    "    \"Authorization\": \"API_KEY_HERE\"\n",
    "}\n",
    "data = {\n",
    "    \"app\": \"sdxl-cyberrealistic\",\n",
    "    \"command\": {\n",
    "        \"positive_prompt\": \"(score_9), score_8_up, highres, 1girl, anime,  elegant gothic dress, garden, sitting, dynamic pose, pantyhose, no shoes, ((fire)), evening, night\",\n",
    "        \"negative_prompt\": \"3d, cgi, sketch, worst quality, low quality, deformed, blurry, realistic, censored, bad bad anatomy, watermark, signature\",\n",
    "        \"seed\": 0,\n",
    "        \"steps\": 29,\n",
    "        \"cfg\": 9,\n",
    "        \"sampler_name\": \"euler\",\n",
    "        \"scheduler\": \"simple\",\n",
    "        \"width\": 832,\n",
    "        \"height\": 1152\n",
    "    }\n",
    "}\n",
    "\n",
    "response = requests.post(url, headers=headers, json=data)\n",
    "print(response.json())"
   ]
  }
 ],
 "metadata": {
  "language_info": {
   "name": "python"
  }
 },
 "nbformat": 4,
 "nbformat_minor": 2
}
