{
 "cells": [
  {
   "cell_type": "markdown",
   "metadata": {
    "id": "view-in-github"
   },
   "source": [
    "[![Open In Colab](https://colab.research.google.com/assets/colab-badge.svg)](https://colab.research.google.com/github/camenduru/tost-api-examples/blob/main/v1/pulid-flux.1.ipynb)"
   ]
  },
  {
   "cell_type": "code",
   "execution_count": null,
   "metadata": {},
   "outputs": [],
   "source": [
    "import requests\n",
    "\n",
    "url = \"https://tost.ai/api/v1\"\n",
    "headers = {\n",
    "    \"Content-Type\": \"application/json\",\n",
    "    \"Authorization\": \"API_KEY_HERE\"\n",
    "}\n",
    "data = {\n",
    "    \"app\": \"pulid-flux.1\",\n",
    "    \"command\": {\n",
    "            \"final_width\": 1024,\n",
    "            \"input_image_check\": \"https://files.catbox.moe/f1cpjc.png\",\n",
    "            \"num_steps\": 20,\n",
    "            \"start_step\": 0,\n",
    "            \"guidance\": 4,\n",
    "            \"seed\": 0,\n",
    "            \"prompt\": \"portrait, cinematic\",\n",
    "            \"neg_prompt\": \"bad quality, worst quality, text, signature, watermark, extra limbs\",\n",
    "            \"id_weight\": 1.0,\n",
    "            \"true_cfg\": 1.0,\n",
    "            \"timestep_to_start_cfg\": 1,\n",
    "            \"max_sequence_length\": 128\n",
    "        }\n",
    "}\n",
    "\n",
    "response = requests.post(url, headers=headers, json=data)\n",
    "print(response.json())"
   ]
  }
 ],
 "metadata": {
  "language_info": {
   "name": "python"
  }
 },
 "nbformat": 4,
 "nbformat_minor": 2
}
