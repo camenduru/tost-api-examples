{
 "cells": [
  {
   "cell_type": "markdown",
   "metadata": {
    "id": "view-in-github"
   },
   "source": [
    "[![Open In Colab](https://colab.research.google.com/assets/colab-badge.svg)](https://colab.research.google.com/github/camenduru/tost-api-examples/blob/main/v1/dimensionx-up.ipynb)"
   ]
  },
  {
   "cell_type": "code",
   "execution_count": null,
   "metadata": {},
   "outputs": [],
   "source": [
    "import requests\n",
    "\n",
    "url = \"https://tost.ai/api/v1\"\n",
    "headers = {\n",
    "    \"Content-Type\": \"application/json\",\n",
    "    \"Authorization\": \"API_KEY_HERE\"\n",
    "}\n",
    "data = {\n",
    "    \"app\": \"dimensionx-up\",\n",
    "    \"command\": {\n",
    "        \"input_image_check\": \"https://files.catbox.moe/05f6a9.png\",\n",
    "        \"prompt\": \"Cinematic scene, camera orbits.\",\n",
    "        \"negative_prompt\": \"The video is not of a high quality, it has a low resolution. Watermark present in each frame. Strange motion trajectory. \",\n",
    "        \"seed\": 0,\n",
    "        \"steps\": 10,\n",
    "        \"cfg\": 6.0\n",
    "    }\n",
    "}\n",
    "\n",
    "response = requests.post(url, headers=headers, json=data)\n",
    "print(response.json())"
   ]
  }
 ],
 "metadata": {
  "language_info": {
   "name": "python"
  }
 },
 "nbformat": 4,
 "nbformat_minor": 2
}
