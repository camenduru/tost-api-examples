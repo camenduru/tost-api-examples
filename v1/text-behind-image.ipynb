{
 "cells": [
  {
   "cell_type": "markdown",
   "metadata": {
    "id": "view-in-github"
   },
   "source": [
    "[![Open In Colab](https://colab.research.google.com/assets/colab-badge.svg)](https://colab.research.google.com/github/camenduru/tost-api-examples/blob/main/v1/text-behind-image.ipynb)"
   ]
  },
  {
   "cell_type": "code",
   "execution_count": null,
   "metadata": {},
   "outputs": [],
   "source": [
    "import requests\n",
    "\n",
    "url = \"https://tost.ai/api/v1\"\n",
    "headers = {\n",
    "    \"Content-Type\": \"application/json\",\n",
    "    \"Authorization\": \"API_KEY_HERE\"\n",
    "}\n",
    "data = {\n",
    "    \"app\": \"text-behind-image\",\n",
    "    \"command\": {\n",
    "        \"input_image_check\": \"https://files.catbox.moe/flj6kn.png\",\n",
    "        \"text\": \"Test\",\n",
    "        \"x\": 230,\n",
    "        \"y\": 91,\n",
    "        \"font_size\": 223,\n",
    "        \"font_family\": \"Custom\",\n",
    "        \"font_color\": \"#eb34bd\",\n",
    "        \"font_shadow_x\": 0,\n",
    "        \"font_shadow_y\": 0,\n",
    "        \"shadow_color\": \"#000000\",\n",
    "        \"custom_font_path\": \"https://huggingface.co/camenduru/Fonts/resolve/main/BIG_JOHN.otf\"\n",
    "    }\n",
    "}\n",
    "\n",
    "response = requests.post(url, headers=headers, json=data)\n",
    "print(response.json())"
   ]
  }
 ],
 "metadata": {
  "language_info": {
   "name": "python"
  }
 },
 "nbformat": 4,
 "nbformat_minor": 2
}
