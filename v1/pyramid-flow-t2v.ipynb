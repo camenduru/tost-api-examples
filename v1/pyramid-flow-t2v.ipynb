{
 "cells": [
  {
   "cell_type": "markdown",
   "metadata": {
    "id": "view-in-github"
   },
   "source": [
    "[![Open In Colab](https://colab.research.google.com/assets/colab-badge.svg)](https://colab.research.google.com/github/camenduru/tost-api-examples/blob/main/v1/pyramid-flow-t2v.ipynb)"
   ]
  },
  {
   "cell_type": "code",
   "execution_count": null,
   "metadata": {},
   "outputs": [],
   "source": [
    "import requests\n",
    "\n",
    "url = \"https://tost.ai/api/v1\"\n",
    "headers = {\n",
    "    \"Content-Type\": \"application/json\",\n",
    "    \"Authorization\": \"API_KEY_HERE\"\n",
    "}\n",
    "data = {\n",
    "    \"app\": \"pyramid-flow-t2v\",\n",
    "    \"command\": {\n",
    "        \"prompt\": \"A movie trailer featuring the adventures of the 30 year old space man wearing a red wool knitted motorcycle helmet, blue sky, salt desert, cinematic style, shot on 35mm film, vivid colors\",\n",
    "        \"num_inference_steps\": 20,\n",
    "        \"video_num_inference_steps\": 10,\n",
    "        \"width\": 1280,\n",
    "        \"height\": 768,\n",
    "        \"temp\": 16,\n",
    "        \"guidance_scale\": 9.0,\n",
    "        \"video_guidance_scale\": 5.0,\n",
    "        \"seed\": 42,\n",
    "        \"fps\":24\n",
    "    }\n",
    "}\n",
    "\n",
    "response = requests.post(url, headers=headers, json=data)\n",
    "print(response.json())"
   ]
  }
 ],
 "metadata": {
  "language_info": {
   "name": "python"
  }
 },
 "nbformat": 4,
 "nbformat_minor": 2
}
