{
 "cells": [
  {
   "cell_type": "markdown",
   "metadata": {
    "id": "view-in-github"
   },
   "source": [
    "[![Open In Colab](https://colab.research.google.com/assets/colab-badge.svg)](https://colab.research.google.com/github/camenduru/tost-api-examples/blob/main/v1/pyramid-flow-i2v.ipynb)"
   ]
  },
  {
   "cell_type": "code",
   "execution_count": null,
   "metadata": {},
   "outputs": [],
   "source": [
    "import requests\n",
    "\n",
    "url = \"https://tost.ai/api/v1\"\n",
    "headers = {\n",
    "    \"Content-Type\": \"application/json\",\n",
    "    \"Authorization\": \"API_KEY_HERE\"\n",
    "}\n",
    "data = {\n",
    "    \"app\": \"pyramid-flow-i2v\",\n",
    "    \"command\": {\n",
    "        \"input_image\": \"https://files.catbox.moe/7rn2pz.png\",\n",
    "        \"prompt\": \"vertigo in, camera focus on the girl, hair flowing with the wind\",\n",
    "        \"num_inference_steps\": 10,\n",
    "        \"width\": 1280,\n",
    "        \"height\": 768,\n",
    "        \"temp\": 16,\n",
    "        \"guidance_scale\": 7.0,\n",
    "        \"video_guidance_scale\": 4.0,\n",
    "        \"seed\": 42,\n",
    "        \"fps\":24\n",
    "    }\n",
    "}\n",
    "\n",
    "response = requests.post(url, headers=headers, json=data)\n",
    "print(response.json())"
   ]
  }
 ],
 "metadata": {
  "language_info": {
   "name": "python"
  }
 },
 "nbformat": 4,
 "nbformat_minor": 2
}
