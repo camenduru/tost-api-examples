{
 "cells": [
  {
   "cell_type": "markdown",
   "metadata": {
    "id": "view-in-github"
   },
   "source": [
    "[![Open In Colab](https://colab.research.google.com/assets/colab-badge.svg)](https://colab.research.google.com/github/camenduru/tost-api-examples/blob/main/v1/comfyui-ipadapter-animatediff.ipynb)"
   ]
  },
  {
   "cell_type": "code",
   "execution_count": null,
   "metadata": {},
   "outputs": [],
   "source": [
    "import requests\n",
    "\n",
    "url = \"https://tost.ai/api/v1\"\n",
    "headers = {\n",
    "    \"Content-Type\": \"application/json\",\n",
    "    \"Authorization\": \"API_KEY_HERE\"\n",
    "}\n",
    "data = {\n",
    "    \"app\": \"comfyui-ipadapter-animatediff\",\n",
    "    \"command\": {\n",
    "        \"prompt\": \"soft pastel colors, cartoon style illustration of a woman as she sees the world while experiencing hallucinations, stoned, splash art, splashed pastel colors, (soft iridiscent glowy smoke) motion effects, best quality, wallpaper art, UHD, centered image, MSchiffer art, ((flat colors)), (cel-shading style) very vibrant neon colors, ((low saturation)) ink lines, iridiscent,\",\n",
    "        \"negative_prompt\": \"low quality\",\n",
    "        \"seed\": 27,\n",
    "        \"is_upscale\": False\n",
    "    }\n",
    "}\n",
    "\n",
    "response = requests.post(url, headers=headers, json=data)\n",
    "print(response.json())"
   ]
  }
 ],
 "metadata": {
  "language_info": {
   "name": "python"
  }
 },
 "nbformat": 4,
 "nbformat_minor": 2
}
