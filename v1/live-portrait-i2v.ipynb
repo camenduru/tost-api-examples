{
 "cells": [
  {
   "cell_type": "markdown",
   "metadata": {
    "id": "view-in-github"
   },
   "source": [
    "[![Open In Colab](https://colab.research.google.com/assets/colab-badge.svg)](https://colab.research.google.com/github/camenduru/tost-api-examples/blob/main/v1/live-portrait-i2v.ipynb)"
   ]
  },
  {
   "cell_type": "code",
   "execution_count": null,
   "metadata": {},
   "outputs": [],
   "source": [
    "import requests\n",
    "\n",
    "url = \"https://tost.ai/api/v1\"\n",
    "headers = {\n",
    "    \"Content-Type\": \"application/json\",\n",
    "    \"Authorization\": \"API_KEY_HERE\"\n",
    "}\n",
    "data = {\n",
    "    \"app\": \"live-portrait-i2v\",\n",
    "    \"command\": {\n",
    "        \"frame_load_cap\": 300,\n",
    "        \"frame_rate\": 16,\n",
    "        \"source_image_file\": \"https://files.catbox.moe/f1cpjc.png\",\n",
    "        \"driving_video_file\": \"https://files.catbox.moe/mulz43.mp4\"\n",
    "    }\n",
    "}\n",
    "\n",
    "response = requests.post(url, headers=headers, json=data)\n",
    "print(response.json())"
   ]
  }
 ],
 "metadata": {
  "language_info": {
   "name": "python"
  }
 },
 "nbformat": 4,
 "nbformat_minor": 2
}
