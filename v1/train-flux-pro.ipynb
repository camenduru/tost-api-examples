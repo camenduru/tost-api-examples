{
 "cells": [
  {
   "cell_type": "markdown",
   "metadata": {
    "id": "view-in-github"
   },
   "source": [
    "[![Open In Colab](https://colab.research.google.com/assets/colab-badge.svg)](https://colab.research.google.com/github/camenduru/tost-api-examples/blob/main/v1/train-flux-pro.ipynb)"
   ]
  },
  {
   "cell_type": "code",
   "execution_count": null,
   "metadata": {},
   "outputs": [],
   "source": [
    "import requests\n",
    "\n",
    "url = \"https://tost.ai/api/v1\"\n",
    "headers = {\n",
    "    \"Content-Type\": \"application/json\",\n",
    "    \"Authorization\": \"API_KEY_HERE\"\n",
    "}\n",
    "data = {\n",
    "    \"app\": \"train-flux-pro\",\n",
    "    \"command\": {\n",
    "        \"name\":\"clayify\",\n",
    "        \"images\": [\n",
    "            {\"url\": \"https://files.catbox.moe/wj8fbd.jpg\"},\n",
    "            {\"url\": \"https://files.catbox.moe/ivr5ug.jpg\"},\n",
    "            {\"url\": \"https://files.catbox.moe/klpt02.jpg\"},\n",
    "            {\"url\": \"https://files.catbox.moe/bm99kw.jpg\"},\n",
    "            {\"url\": \"https://files.catbox.moe/pkbuvk.jpg\"},\n",
    "            {\"url\": \"https://files.catbox.moe/uhvkxd.jpg\"},\n",
    "            {\"url\": \"https://files.catbox.moe/b2oty1.jpg\"},\n",
    "            {\"url\": \"https://files.catbox.moe/9ohbp9.jpg\"},\n",
    "            {\"url\": \"https://files.catbox.moe/5g4y02.jpg\"},\n",
    "            {\"url\": \"https://files.catbox.moe/u35ctc.jpg\"},\n",
    "            {\"url\": \"https://files.catbox.moe/s0dklz.jpg\"},\n",
    "            {\"url\": \"https://files.catbox.moe/mq4ypv.jpg\"} # max images: 12\n",
    "        ],\n",
    "        \"config_yaml_url\":\"https://huggingface.co/camenduru/clayify_test/raw/main/replace.yaml\" # max steps: 1000\n",
    "    }\n",
    "}\n",
    "\n",
    "response = requests.post(url, headers=headers, json=data)\n",
    "print(response.json())"
   ]
  }
 ],
 "metadata": {
  "language_info": {
   "name": "python"
  }
 },
 "nbformat": 4,
 "nbformat_minor": 2
}
