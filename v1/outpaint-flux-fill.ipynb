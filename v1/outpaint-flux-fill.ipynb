{
 "cells": [
  {
   "cell_type": "markdown",
   "metadata": {
    "id": "view-in-github"
   },
   "source": [
    "[![Open In Colab](https://colab.research.google.com/assets/colab-badge.svg)](https://colab.research.google.com/github/camenduru/tost-api-examples/blob/main/v1/outpaint-flux-fill.ipynb)"
   ]
  },
  {
   "cell_type": "code",
   "execution_count": null,
   "metadata": {},
   "outputs": [],
   "source": [
    "import requests\n",
    "\n",
    "url = \"https://tost.ai/api/v1\"\n",
    "headers = {\n",
    "    \"Content-Type\": \"application/json\",\n",
    "    \"Authorization\": \"API_KEY_HERE\"\n",
    "}\n",
    "data = {\n",
    "    \"app\": \"outpaint-flux-fill\",\n",
    "    \"command\": {\n",
    "        \"input_image\": \"https://files.catbox.moe/pqi6yz.png\",\n",
    "        \"left\": 600,\n",
    "        \"right\": 600,\n",
    "        \"top\": 0,\n",
    "        \"bottom\": 0,\n",
    "        \"feathering\": 24,\n",
    "        \"positive_prompt\": \"high definition\",\n",
    "        \"negative_prompt\": \"blurry\",\n",
    "        \"seed\": 0,\n",
    "        \"steps\": 20,\n",
    "        \"guidance\": 30,\n",
    "        \"cfg\": 1.0,\n",
    "        \"sampler_name\": \"euler\",\n",
    "        \"scheduler\": \"normal\"\n",
    "    }\n",
    "}\n",
    "\n",
    "response = requests.post(url, headers=headers, json=data)\n",
    "print(response.json())"
   ]
  }
 ],
 "metadata": {
  "language_info": {
   "name": "python"
  }
 },
 "nbformat": 4,
 "nbformat_minor": 2
}
