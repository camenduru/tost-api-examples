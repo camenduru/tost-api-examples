{
 "cells": [
  {
   "cell_type": "markdown",
   "metadata": {
    "id": "view-in-github"
   },
   "source": [
    "[![Open In Colab](https://colab.research.google.com/assets/colab-badge.svg)](https://colab.research.google.com/github/camenduru/tost-api-examples/blob/main/v1/colorize-line-art.ipynb)"
   ]
  },
  {
   "cell_type": "code",
   "execution_count": null,
   "metadata": {},
   "outputs": [],
   "source": [
    "import requests\n",
    "\n",
    "url = \"https://tost.ai/api/v1\"\n",
    "headers = {\n",
    "    \"Content-Type\": \"application/json\",\n",
    "    \"Authorization\": \"API_KEY_HERE\"\n",
    "}\n",
    "data = {\n",
    "    \"app\": \"colorize-line-art\",\n",
    "    \"command\": {\n",
    "        \"input_image_check\": \"https://image.civitai.com/xG1nkqKTMzGDvpLrqFT7WA/2872eef5-dcb7-422a-57f2-54dae3aace00/width=800,quality=90/326143.jpeg\",\n",
    "        \"prompt\": \"blond hair sunny day\",\n",
    "        \"det\": \"None\",\n",
    "        \"a_prompt\": \"masterpiece, best quality, ultra-detailed, illustration, disheveled hair\",\n",
    "        \"n_prompt\": \"longbody, lowres, bad anatomy, bad hands, missing fingers, pubic hair,extra digit, fewer digits, cropped, worst quality, low quality\",\n",
    "        \"image_resolution\": 1024,\n",
    "        \"detect_resolution\": 1024,\n",
    "        \"ddim_steps\": 25,\n",
    "        \"strength\": 1,\n",
    "        \"scale\": 9,\n",
    "        \"seed\": 4,\n",
    "        \"eta\": 1\n",
    "    }\n",
    "}\n",
    "\n",
    "response = requests.post(url, headers=headers, json=data)\n",
    "print(response.json())"
   ]
  }
 ],
 "metadata": {
  "language_info": {
   "name": "python"
  }
 },
 "nbformat": 4,
 "nbformat_minor": 2
}
