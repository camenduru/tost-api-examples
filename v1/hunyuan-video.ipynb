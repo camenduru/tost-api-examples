{
 "cells": [
  {
   "cell_type": "markdown",
   "metadata": {
    "id": "view-in-github"
   },
   "source": [
    "[![Open In Colab](https://colab.research.google.com/assets/colab-badge.svg)](https://colab.research.google.com/github/camenduru/tost-api-examples/blob/main/v1/hunyuan-video.ipynb)"
   ]
  },
  {
   "cell_type": "code",
   "execution_count": null,
   "metadata": {},
   "outputs": [],
   "source": [
    "import requests\n",
    "\n",
    "url = \"https://tost.ai/api/v1\"\n",
    "headers = {\n",
    "    \"Content-Type\": \"application/json\",\n",
    "    \"Authorization\": \"API_KEY_HERE\"\n",
    "}\n",
    "data = {\n",
    "    \"app\": \"hunyuan-video\",\n",
    "    \"command\": {\n",
    "        \"positive_prompt\": \"a cat is running, realistic.\",\n",
    "        \"height\": 368,\n",
    "        \"width\": 640,\n",
    "        \"video_length\": 129,\n",
    "        \"seed\": 0,\n",
    "        \"negative_prompt\": \"Aerial view, aerial view, overexposed, low quality, deformation, a poor composition, bad hands, bad teeth, bad eyes, bad limbs, distortion\",\n",
    "        \"infer_steps\": 50,\n",
    "        \"guidance_scale\": 1,\n",
    "        \"num_videos_per_prompt\": 1,\n",
    "        \"flow_shift\": 7,\n",
    "        \"batch_size\": 1,\n",
    "        \"embedded_guidance_scale\": 6\n",
    "    }\n",
    "}\n",
    "\n",
    "response = requests.post(url, headers=headers, json=data)\n",
    "print(response.json())"
   ]
  }
 ],
 "metadata": {
  "language_info": {
   "name": "python"
  }
 },
 "nbformat": 4,
 "nbformat_minor": 2
}
