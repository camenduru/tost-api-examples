{
 "cells": [
  {
   "cell_type": "markdown",
   "metadata": {
    "id": "view-in-github"
   },
   "source": [
    "[![Open In Colab](https://colab.research.google.com/assets/colab-badge.svg)](https://colab.research.google.com/github/camenduru/tost-api-examples/blob/main/v1/ic-light.ipynb)"
   ]
  },
  {
   "cell_type": "code",
   "execution_count": null,
   "metadata": {},
   "outputs": [],
   "source": [
    "import requests\n",
    "\n",
    "url = \"https://tost.ai/api/v1\"\n",
    "headers = {\n",
    "    \"Content-Type\": \"application/json\",\n",
    "    \"Authorization\": \"API_KEY_HERE\"\n",
    "}\n",
    "data = {\n",
    "    \"app\": \"ic-light\",\n",
    "    \"command\": {\n",
    "        \"input_fg\": \"https://hips.hearstapps.com/hmg-prod/images/scarlett-johansson-attends-the-premiere-of-illuminations-news-photo-1639390369.jpg\",\n",
    "        \"prompt\": \"beautiful woman, detailed face, neon light, city\",\n",
    "        \"width\": 512,\n",
    "        \"height\": 768,\n",
    "        \"seed\": 14,\n",
    "        \"steps\": 25,\n",
    "        \"a_prompt\": \"best quality\",\n",
    "        \"n_prompt\": \"lowres, bad anatomy, bad hands, cropped, worst quality\",\n",
    "        \"cfg\": 2,\n",
    "        \"highres_scale\": 1.5,\n",
    "        \"highres_denoise\": 0.5,\n",
    "        \"lowres_denoise\": 0.9,\n",
    "        \"bg_source\": \"BOTTOM\"\n",
    "    }\n",
    "}\n",
    "\n",
    "response = requests.post(url, headers=headers, json=data)\n",
    "print(response.json())"
   ]
  }
 ],
 "metadata": {
  "language_info": {
   "name": "python"
  }
 },
 "nbformat": 4,
 "nbformat_minor": 2
}
