{
 "cells": [
  {
   "cell_type": "markdown",
   "metadata": {
    "id": "view-in-github"
   },
   "source": [
    "[![Open In Colab](https://colab.research.google.com/assets/colab-badge.svg)](https://colab.research.google.com/github/camenduru/tost-api-examples/blob/main/v1/onevision-flux.1-dev.ipynb)"
   ]
  },
  {
   "cell_type": "code",
   "execution_count": null,
   "metadata": {},
   "outputs": [],
   "source": [
    "import requests\n",
    "\n",
    "url = \"https://tost.ai/api/v1\"\n",
    "headers = {\n",
    "    \"Content-Type\": \"application/json\",\n",
    "    \"Authorization\": \"API_KEY_HERE\"\n",
    "}\n",
    "data = {\n",
    "    \"app\": \"onevision-flux.1-dev\",\n",
    "    \"command\": {\n",
    "        \"input_image_check\": \"https://i.ibb.co/QX3NcGb/cat.jpg\",\n",
    "        \"final_width\": 1024,\n",
    "        \"tag_prompt\": \"Describe the image, person, skin color, ethnicity and text in detail, using the format of a text-to-image prompt.\",\n",
    "        \"additional_prompt\": \"ultra realistic\",\n",
    "        \"tag_seed\": 0,\n",
    "        \"tag_temp\": 0.6,\n",
    "        \"tag_max_tokens\": 2048,\n",
    "        \"seed\": 0,\n",
    "        \"steps\": 20,\n",
    "        \"guidance\": 3.5,\n",
    "        \"lora_file\": \"xlabs_realism.safetensors\",\n",
    "        \"lora_strength_model\": 1,\n",
    "        \"lora_strength_clip\": 1,\n",
    "        \"sampler_name\": \"euler\",\n",
    "        \"scheduler\": \"simple\"\n",
    "    }\n",
    "}\n",
    "\n",
    "response = requests.post(url, headers=headers, json=data)\n",
    "print(response.json())"
   ]
  }
 ],
 "metadata": {
  "language_info": {
   "name": "python"
  }
 },
 "nbformat": 4,
 "nbformat_minor": 2
}
