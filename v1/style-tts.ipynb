{
 "cells": [
  {
   "cell_type": "markdown",
   "metadata": {
    "id": "view-in-github"
   },
   "source": [
    "[![Open In Colab](https://colab.research.google.com/assets/colab-badge.svg)](https://colab.research.google.com/github/camenduru/tost-api-examples/blob/main/v1/style-tts.ipynb)"
   ]
  },
  {
   "cell_type": "code",
   "execution_count": null,
   "metadata": {},
   "outputs": [],
   "source": [
    "import requests\n",
    "\n",
    "url = \"https://tost.ai/api/v1\"\n",
    "headers = {\n",
    "    \"Content-Type\": \"application/json\",\n",
    "    \"Authorization\": \"API_KEY_HERE\"\n",
    "}\n",
    "data = {\n",
    "    \"app\": \"style-tts\",\n",
    "    \"command\": {\n",
    "        \"prompt\": \"In a small, forgotten village, there was a well that granted wishes but only if you whispered your deepest secret into its depths. One day, a young girl named Lily approached the well, desperate to save her sick mother. \",\n",
    "        \"wav_input_url\": \"https://files.catbox.moe/bt3jvd.wav\",\n",
    "        \"alpha\": 0,\n",
    "        \"beta\": 0,\n",
    "        \"diffusion_steps\": 10,\n",
    "        \"embedding_scale\": 1\n",
    "    }\n",
    "}\n",
    "\n",
    "response = requests.post(url, headers=headers, json=data)\n",
    "print(response.json())"
   ]
  }
 ],
 "metadata": {
  "language_info": {
   "name": "python"
  }
 },
 "nbformat": 4,
 "nbformat_minor": 2
}
