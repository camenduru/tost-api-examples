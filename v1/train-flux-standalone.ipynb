{
 "cells": [
  {
   "cell_type": "markdown",
   "metadata": {
    "id": "view-in-github"
   },
   "source": [
    "[![Open In Colab](https://colab.research.google.com/assets/colab-badge.svg)](https://colab.research.google.com/github/camenduru/tost-api-examples/blob/main/v1/train-flux-standalone.ipynb)"
   ]
  },
  {
   "cell_type": "code",
   "execution_count": null,
   "metadata": {},
   "outputs": [],
   "source": [
    "import requests\n",
    "from PIL import Image\n",
    "from io import BytesIO\n",
    "\n",
    "RUNPOD_ID = \"\"\n",
    "RUNPOD_KEY = \"\"\n",
    "\n",
    "url = f'https://api.runpod.ai/v2/{RUNPOD_ID}/run'\n",
    "headers = {\n",
    "    \"Content-Type\": \"application/json\",\n",
    "    'Authorization': f\"Bearer {RUNPOD_KEY}\",\n",
    "}\n",
    "data = {\n",
    "  \"input\": {\n",
    "      \"name\":\"clayify\",\n",
    "      \"images\": [\n",
    "          {\"url\": \"https://files.catbox.moe/wj8fbd.jpg\"},\n",
    "          {\"url\": \"https://files.catbox.moe/ivr5ug.jpg\"},\n",
    "          {\"url\": \"https://files.catbox.moe/klpt02.jpg\"},\n",
    "          {\"url\": \"https://files.catbox.moe/bm99kw.jpg\"},\n",
    "          {\"url\": \"https://files.catbox.moe/pkbuvk.jpg\"},\n",
    "          {\"url\": \"https://files.catbox.moe/uhvkxd.jpg\"},\n",
    "          {\"url\": \"https://files.catbox.moe/b2oty1.jpg\"},\n",
    "          {\"url\": \"https://files.catbox.moe/9ohbp9.jpg\"},\n",
    "          {\"url\": \"https://files.catbox.moe/5g4y02.jpg\"},\n",
    "          {\"url\": \"https://files.catbox.moe/u35ctc.jpg\"},\n",
    "          {\"url\": \"https://files.catbox.moe/s0dklz.jpg\"},\n",
    "          {\"url\": \"https://files.catbox.moe/mq4ypv.jpg\"}\n",
    "      ],\n",
    "      \"config_yaml_url\":\"https://huggingface.co/camenduru/clayify_test/raw/main/replace.yaml\"\n",
    "  },\n",
    "  \"webhook\": \"https://webhook.site/\"\n",
    "}\n",
    "response = requests.post(url, headers=headers, json=data)\n",
    "response.json()"
   ]
  },
  {
   "cell_type": "code",
   "execution_count": null,
   "metadata": {},
   "outputs": [],
   "source": [
    "# Example API Response \"status\": \"COMPLETED\"\n",
    "{\n",
    "  \"delayTime\": 34151,\n",
    "  \"executionTime\": 82453,\n",
    "  \"id\": \"9d5e5022-7684-43f7-a148-03d2efe48805-u1\",\n",
    "  \"input\": {\n",
    "    \"config_yaml_url\": \"https://huggingface.co/camenduru/clayify_test/raw/main/replace.yaml\",\n",
    "    \"images\": [\n",
    "      {\n",
    "        \"url\": \"https://files.catbox.moe/wj8fbd.jpg\"\n",
    "      },\n",
    "      {\n",
    "        \"url\": \"https://files.catbox.moe/ivr5ug.jpg\"\n",
    "      }\n",
    "    ],\n",
    "    \"name\": \"clayify\"\n",
    "  },\n",
    "  \"output\": {\n",
    "    \"result\": \"https://ewr1.vultrobjects.com/test/tost-2024-10-16-07-37-07-clayify.safetensors\"\n",
    "  },\n",
    "  \"status\": \"COMPLETED\",\n",
    "  \"webhook\": \"https://webhook.site\"\n",
    "}\n",
    "\n",
    "\n",
    "# Example API Response \"status\": \"FAILED\"\n",
    "{\n",
    "  \"delayTime\": 340,\n",
    "  \"error\": \"{\\\"error_type\\\": \\\"<class 'UnboundLocalError'>\\\", \\\"error_message\\\": \\\"local variable 'result_path' referenced before assignment\\\", \\\"error_traceback\\\": \\\"Traceback (most recent call last):\\\\n  File \\\\\\\"/home/camenduru/.local/lib/python3.10/site-packages/runpod/serverless/modules/rp_job.py\\\\\\\", line 132, in run_job\\\\n    handler_return = handler(job)\\\\n  File \\\\\\\"/content/ai-toolkit/worker_runpod.py\\\\\\\", line 66, in generate\\\\n    if os.path.exists(result_path):\\\\nUnboundLocalError: local variable 'result_path' referenced before assignment\\\\n\\\", \\\"hostname\\\": \\\"8ajvycjjpvdffi-64410a61\\\", \\\"worker_id\\\": \\\"8ajvycjjpvdffi\\\", \\\"runpod_version\\\": \\\"1.7.0\\\"}\",\n",
    "  \"executionTime\": 25595,\n",
    "  \"id\": \"d9b1c1f0-1f82-44a9-8a51-df14503a5b73-u1\",\n",
    "  \"input\": {\n",
    "    \"config_yaml_url\": \"https://huggingface.co/camenduru/clayify_test/raw/main/replace.yaml\",\n",
    "    \"images\": [],\n",
    "    \"name\": \"clayify\"\n",
    "  },\n",
    "  \"status\": \"FAILED\",\n",
    "  \"webhook\": \"https://webhook.site\"\n",
    "}"
   ]
  }
 ],
 "metadata": {
  "language_info": {
   "name": "python"
  }
 },
 "nbformat": 4,
 "nbformat_minor": 2
}
