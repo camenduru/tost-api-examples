{
 "cells": [
  {
   "cell_type": "markdown",
   "metadata": {
    "id": "view-in-github"
   },
   "source": [
    "[![Open In Colab](https://colab.research.google.com/assets/colab-badge.svg)](https://colab.research.google.com/github/camenduru/tost-api-examples/blob/main/v1/ltx-t2v.ipynb)"
   ]
  },
  {
   "cell_type": "code",
   "execution_count": null,
   "metadata": {},
   "outputs": [],
   "source": [
    "import requests\n",
    "\n",
    "url = \"https://tost.ai/api/v1\"\n",
    "headers = {\n",
    "    \"Content-Type\": \"application/json\",\n",
    "    \"Authorization\": \"API_KEY_HERE\"\n",
    "}\n",
    "data = {\n",
    "    \"app\": \"ltx-t2v\",\n",
    "    \"command\": {\n",
    "        \"positive_prompt\": \"A woman with long brown hair and light skin smiles at another woman with long blonde hair. The woman with brown hair wears a black jacket and has a small, barely noticeable mole on her right cheek. The camera angle is a close-up, focused on the woman with brown hair's face. The lighting is warm and natural, likely from the setting sun, casting a soft glow on the scene. The scene appears to be real-life footage.\",\n",
    "        \"negative_prompt\": \"low quality, worst quality, deformed, distorted, disfigured, motion smear, motion artifacts, fused fingers, bad anatomy, weird hand, ugly\",\n",
    "        \"frame_rate\": 25,\n",
    "        \"sampler_name\": \"euler\",\n",
    "        \"steps\": 30,\n",
    "        \"max_shift\": 2.05,\n",
    "        \"base_shift\": 0.95,\n",
    "        \"stretch\": True,\n",
    "        \"terminal\": 0.1,\n",
    "        \"width\": 768,\n",
    "        \"height\": 512,\n",
    "        \"length\": 97,\n",
    "        \"add_noise\": True,\n",
    "        \"noise_seed\": 0,\n",
    "        \"cfg\": 3,\n",
    "        \"fps\": 24,\n",
    "        \"prompt_enhance\": False\n",
    "    }\n",
    "}\n",
    "\n",
    "response = requests.post(url, headers=headers, json=data)\n",
    "print(response.json())"
   ]
  }
 ],
 "metadata": {
  "language_info": {
   "name": "python"
  }
 },
 "nbformat": 4,
 "nbformat_minor": 2
}
