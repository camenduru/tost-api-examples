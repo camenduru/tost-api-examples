{
 "cells": [
  {
   "cell_type": "markdown",
   "metadata": {
    "id": "view-in-github"
   },
   "source": [
    "[![Open In Colab](https://colab.research.google.com/assets/colab-badge.svg)](https://colab.research.google.com/github/camenduru/tost-api-examples/blob/main/v1/diff-bir.ipynb)"
   ]
  },
  {
   "cell_type": "code",
   "execution_count": null,
   "metadata": {},
   "outputs": [],
   "source": [
    "import requests\n",
    "\n",
    "url = \"https://tost.ai/api/v1\"\n",
    "headers = {\n",
    "    \"Content-Type\": \"application/json\",\n",
    "    \"Authorization\": \"API_KEY_HERE\"\n",
    "}\n",
    "data = {\n",
    "    \"app\": \"diff-bir\",\n",
    "    \"command\": {\n",
    "        \"input_image_check\": \"https://files.catbox.moe/x6ktl7.jpg\",\n",
    "        \"task\": \"fr_bg\",\n",
    "        \"upscale\": 1,\n",
    "        \"version\": \"v2\",\n",
    "        \"steps\": 50,\n",
    "        \"better_start\": false,\n",
    "        \"tiled\": false,\n",
    "        \"tile_size\": 512,\n",
    "        \"tile_stride\": 256,\n",
    "        \"pos_prompt\": \" \",\n",
    "        \"neg_prompt\": \"low quality, blurry, low-resolution, noisy, unsharp, weird textures\",\n",
    "        \"cfg_scale\": 4.0,\n",
    "        \"guidance\": false,\n",
    "        \"g_loss\": \"w_mse\",\n",
    "        \"g_scale\": 0.0,\n",
    "        \"g_space\": \"latent\",\n",
    "        \"seed\": 231\n",
    "    }\n",
    "}\n",
    "\n",
    "response = requests.post(url, headers=headers, json=data)\n",
    "print(response.json())"
   ]
  }
 ],
 "metadata": {
  "language_info": {
   "name": "python"
  }
 },
 "nbformat": 4,
 "nbformat_minor": 2
}
