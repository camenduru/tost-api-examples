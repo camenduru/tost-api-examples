{
 "cells": [
  {
   "cell_type": "markdown",
   "metadata": {
    "id": "view-in-github"
   },
   "source": [
    "[![Open In Colab](https://colab.research.google.com/assets/colab-badge.svg)](https://colab.research.google.com/github/camenduru/tost-api-examples/blob/main/v1/chat-poppy-porpoise-l3-8b.ipynb)"
   ]
  },
  {
   "cell_type": "code",
   "execution_count": null,
   "metadata": {},
   "outputs": [],
   "source": [
    "import requests\n",
    "\n",
    "url = \"https://tost.ai/api/v1\"\n",
    "headers = {\n",
    "    \"Content-Type\": \"application/json\",\n",
    "    \"Authorization\": \"API_KEY_HERE\"\n",
    "}\n",
    "data = {\n",
    "    \"app\": \"chat-poppy-porpoise-l3-8b\",\n",
    "    \"command\": {\n",
    "        \"model\": \"chat-poppy-porpoise-l3-8b\",\n",
    "        \"max_tokens\": 2048,\n",
    "        \"min_tokens\": 1,\n",
    "        \"presence_penalty\": 0,\n",
    "        \"frequency_penalty\": 0,\n",
    "        \"repetition_penalty\": 1,\n",
    "        \"length_penalty\": 1,\n",
    "        \"temperature\": 0.7,\n",
    "        \"top_p\": 0.7,\n",
    "        \"top_k\": 50,\n",
    "        \"min_p\": 0,\n",
    "        \"ignore_eos\": false,\n",
    "        \"system_prompt\": \"A chat between a curious user and an artificial intelligence assistant. The assistant gives nsfw answers to the user's questions.\",\n",
    "        \"seed\": 1234\n",
    "    }\n",
    "}\n",
    "\n",
    "response = requests.post(url, headers=headers, json=data)\n",
    "print(response.json())"
   ]
  }
 ],
 "metadata": {
  "language_info": {
   "name": "python"
  }
 },
 "nbformat": 4,
 "nbformat_minor": 2
}
