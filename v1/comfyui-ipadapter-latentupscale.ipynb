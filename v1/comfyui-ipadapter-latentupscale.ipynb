{
 "cells": [
  {
   "cell_type": "markdown",
   "metadata": {
    "id": "view-in-github"
   },
   "source": [
    "[![Open In Colab](https://colab.research.google.com/assets/colab-badge.svg)](https://colab.research.google.com/github/camenduru/tost-api-examples/blob/main/v1/comfyui-ipadapter-latentupscale.ipynb)"
   ]
  },
  {
   "cell_type": "code",
   "execution_count": null,
   "metadata": {},
   "outputs": [],
   "source": [
    "import requests\n",
    "\n",
    "url = \"https://tost.ai/api/v1\"\n",
    "headers = {\n",
    "    \"Content-Type\": \"application/json\",\n",
    "    \"Authorization\": \"API_KEY_HERE\"\n",
    "}\n",
    "data = {\n",
    "    \"app\": \"comfyui-ipadapter-latentupscale\",\n",
    "    \"command\": {\n",
    "        \"red_part\": \"https://i.ibb.co/CbvtCv0/ip.png\",\n",
    "        \"red_positive_prompt\": \"anime illustration of a young woman with a black jacket\",\n",
    "        \"red_negative_prompt\": \"ugly\",\n",
    "        \"red_threshold\": 0.15,\n",
    "        \"red_image_weight\": 0.7,\n",
    "        \"red_prompt_weight\": 1,\n",
    "        \"green_part\": \"https://i.ibb.co/d60TzcL/ip2.png\",\n",
    "        \"green_positive_prompt\": \"illustration of a blond woman\",\n",
    "        \"green_negative_prompt\": \"anime\",\n",
    "        \"green_threshold\": 0.15,\n",
    "        \"green_image_weight\": 0.7,\n",
    "        \"green_prompt_weight\": 1,\n",
    "        \"black_part\": \"https://i.ibb.co/st1ZCg9/back1.png\",\n",
    "        \"black_positive_prompt\": \"closeup of two girl friends shopping in a sci-fi space station\",\n",
    "        \"black_negative_prompt\": \"blurry, lowres, bad art, ill, distorted, malformed, horror\",\n",
    "        \"black_threshold\": 0.15,\n",
    "        \"black_image_weight\": 0.7,\n",
    "        \"black_prompt_weight\": 1,\n",
    "        \"color_mask\": \"https://i.ibb.co/0jBsstS/color-mask.png\",\n",
    "        \"seed\": 543543,\n",
    "        \"steps\": 30,\n",
    "        \"cfg\": 7,\n",
    "        \"sampler_name\": \"dpmpp_2m\",\n",
    "        \"scheduler\": \"karras\",\n",
    "        \"width\": 512,\n",
    "        \"height\": 512,\n",
    "        \"image_denoise\": 1,\n",
    "        \"latent_upscale\": True,\n",
    "        \"latent_upscale_size\": 1.5,\n",
    "        \"latent_upscale_denoise\": 0.55\n",
    "    }\n",
    "}\n",
    "\n",
    "response = requests.post(url, headers=headers, json=data)\n",
    "print(response.json())"
   ]
  }
 ],
 "metadata": {
  "language_info": {
   "name": "python"
  }
 },
 "nbformat": 4,
 "nbformat_minor": 2
}
