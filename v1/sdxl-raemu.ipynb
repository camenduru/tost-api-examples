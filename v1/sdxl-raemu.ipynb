{
 "cells": [
  {
   "cell_type": "markdown",
   "metadata": {
    "id": "view-in-github"
   },
   "source": [
    "[![Open In Colab](https://colab.research.google.com/assets/colab-badge.svg)](https://colab.research.google.com/github/camenduru/tost-api-examples/blob/main/v1/sdxl-raemu.ipynb)"
   ]
  },
  {
   "cell_type": "code",
   "execution_count": null,
   "metadata": {},
   "outputs": [],
   "source": [
    "import requests\n",
    "\n",
    "url = \"https://tost.ai/api/v1\"\n",
    "headers = {\n",
    "    \"Content-Type\": \"application/json\",\n",
    "    \"Authorization\": \"API_KEY_HERE\"\n",
    "}\n",
    "data = {\n",
    "    \"app\": \"sdxl-raemu\",\n",
    "    \"command\": {\n",
    "        \"positive_prompt\": \"(masterpiece, best quality, very aesthetic, ultra detailed), intricate details, 1girl, esdeath, akame ga kill!, blue eyes, blue hair, military uniform, hat, ice, sitting, sitting on throne, crossed legs, snow, white footwear, thigh boots,\",\n",
    "        \"negative_prompt\": \"(worst quality, low quality, very displeasing, lowres), (interlocked fingers, badly drawn hands and fingers, anatomically incorrect hands), blurry, watermark,\",\n",
    "        \"seed\": 0,\n",
    "        \"steps\": 9,\n",
    "        \"cfg\": 2,\n",
    "        \"sampler_name\": \"euler\",\n",
    "        \"scheduler\": \"simple\",\n",
    "        \"width\": 832,\n",
    "        \"height\": 1152\n",
    "    }\n",
    "}\n",
    "\n",
    "response = requests.post(url, headers=headers, json=data)\n",
    "print(response.json())"
   ]
  }
 ],
 "metadata": {
  "language_info": {
   "name": "python"
  }
 },
 "nbformat": 4,
 "nbformat_minor": 2
}
