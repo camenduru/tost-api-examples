{
 "cells": [
  {
   "cell_type": "markdown",
   "metadata": {
    "id": "view-in-github"
   },
   "source": [
    "[![Open In Colab](https://colab.research.google.com/assets/colab-badge.svg)](https://colab.research.google.com/github/camenduru/tost-api-examples/blob/main/v1/trellis.ipynb)"
   ]
  },
  {
   "cell_type": "code",
   "execution_count": null,
   "metadata": {},
   "outputs": [],
   "source": [
    "import requests\n",
    "\n",
    "url = \"https://tost.ai/api/v1\"\n",
    "headers = {\n",
    "    \"Content-Type\": \"application/json\",\n",
    "    \"Authorization\": \"API_KEY_HERE\"\n",
    "}\n",
    "data = {\n",
    "    \"app\": \"trellis\",\n",
    "    \"command\": {\n",
    "        \"input_image\": \"https://files.catbox.moe/o5xi83.webp\",\n",
    "        \"seed\": 0,\n",
    "        \"randomize_seed\": True,\n",
    "        \"ss_guidance_strength\": 7.5,\n",
    "        \"ss_sampling_steps\": 12,\n",
    "        \"slat_guidance_strength\": 3.0,\n",
    "        \"slat_sampling_steps\": 12,\n",
    "        \"mesh_simplify\": 0.95,\n",
    "        \"texture_size\": 1024\n",
    "    }\n",
    "}\n",
    "\n",
    "response = requests.post(url, headers=headers, json=data)\n",
    "print(response.json())"
   ]
  }
 ],
 "metadata": {
  "language_info": {
   "name": "python"
  }
 },
 "nbformat": 4,
 "nbformat_minor": 2
}
