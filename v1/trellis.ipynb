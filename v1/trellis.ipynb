{
 "cells": [
  {
   "cell_type": "markdown",
   "metadata": {
    "id": "view-in-github"
   },
   "source": [
    "[![Open In Colab](https://colab.research.google.com/assets/colab-badge.svg)](https://colab.research.google.com/github/camenduru/tost-api-examples/blob/main/v1/trellis.ipynb)"
   ]
  },
  {
   "cell_type": "code",
   "execution_count": null,
   "metadata": {},
   "outputs": [],
   "source": [
    "import requests\n",
    "\n",
    "url = \"https://tost.ai/api/v1\"\n",
    "headers = {\n",
    "    \"Content-Type\": \"application/json\",\n",
    "    \"Authorization\": \"API_KEY_HERE\"\n",
    "}\n",
    "data = {\n",
    "    \"app\": \"trellis\",\n",
    "    \"command\": {\n",
    "        \"input_image\": \"https://files.catbox.moe/o5xi83.webp\",\n",
    "        \"seed\": 0,\n",
    "        \"randomize_seed\": True,\n",
    "        \"ss_guidance_strength\": 7.5,\n",
    "        \"ss_sampling_steps\": 12,\n",
    "        \"slat_guidance_strength\": 3.0,\n",
    "        \"slat_sampling_steps\": 12,\n",
    "        \"mesh_simplify\": 0.95,\n",
    "        \"texture_size\": 1024\n",
    "    }\n",
    "}\n",
    "\n",
    "response = requests.post(url, headers=headers, json=data)\n",
    "print(response.json())"
   ]
  },
  {
   "cell_type": "code",
   "execution_count": null,
   "metadata": {},
   "outputs": [],
   "source": [
    "# Example API Response \"status\": \"DONE\"\n",
    "{\n",
    "  \"jobId\": \"6753f8da0b72c942725602c5\",\n",
    "  \"result\": \"['https://cdn.discordapp.com/attachments/1274093438014586913/1314856335426191413/trellis-tost.mp4?ex=67554ae3&is=6753f963&hm=898ea1167eebf96edf6612175c3772734a069840e19b9c2aa501223d889bde0e&', 'https://cdn.discordapp.com/attachments/1274093438014586913/1314856335619264594/trellis-tost.glb?ex=67554ae3&is=6753f963&hm=1653d8e28c9533d9b0befa5465da0d8a90ee5d5179bd92d88924cb71a3ffde04&', 'https://cdn.discordapp.com/attachments/1274093438014586913/1314856336042885181/trellis-tost.png?ex=67554ae3&is=6753f963&hm=a07c3d6710c4c87068d0e2d9fc782596048f6c362f9a28050c20c33d565ba249&']\",\n",
    "  \"status\": \"DONE\"\n",
    "}"
   ]
  }
 ],
 "metadata": {
  "language_info": {
   "name": "python"
  }
 },
 "nbformat": 4,
 "nbformat_minor": 2
}
