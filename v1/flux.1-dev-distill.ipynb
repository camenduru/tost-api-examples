{
 "cells": [
  {
   "cell_type": "markdown",
   "metadata": {
    "id": "view-in-github"
   },
   "source": [
    "[![Open In Colab](https://colab.research.google.com/assets/colab-badge.svg)](https://colab.research.google.com/github/camenduru/tost-api-examples/blob/main/v1/flux.1-dev-distill.ipynb)"
   ]
  },
  {
   "cell_type": "code",
   "execution_count": null,
   "metadata": {},
   "outputs": [],
   "source": [
    "import requests\n",
    "\n",
    "url = \"https://tost.ai/api/v1\"\n",
    "headers = {\n",
    "    \"Content-Type\": \"application/json\",\n",
    "    \"Authorization\": \"API_KEY_HERE\"\n",
    "}\n",
    "data = {\n",
    "    \"app\": \"flux.1-dev-distill\",\n",
    "    \"command\": {\n",
    "        \"enable_image_caption\": false,\n",
    "        \"input_image\": \"https://files.catbox.moe/ik4jpj.jpg\",\n",
    "        \"caption_type\": \"Descriptive\",\n",
    "        \"caption_length\": \"long\",\n",
    "        \"low_vram\": true,\n",
    "        \"positive_prompt\": \"detailed, realistic, masterpiece, uhd, 8k spaghettis\",\n",
    "        \"negative_prompt\": \"sharp\",\n",
    "        \"enable_custom_lora\": false,\n",
    "        \"lora_url\": \"https://huggingface.co/TostAI/flux-1-dev-lora/resolve/main/8iiu0y.safetensors\",\n",
    "        \"lora_strength_model\": 1,\n",
    "        \"lora_strength_clip\": 1,\n",
    "        \"seed\": 0,\n",
    "        \"steps\": 8,\n",
    "        \"cfg\": 3.5,\n",
    "        \"sampler_name\": \"euler\",\n",
    "        \"scheduler\": \"beta\",\n",
    "        \"max_shift\": 1.15,\n",
    "        \"base_shift\": 0.5,\n",
    "        \"width\": 1024,\n",
    "        \"height\": 1024\n",
    "    }\n",
    "}\n",
    "\n",
    "response = requests.post(url, headers=headers, json=data)\n",
    "print(response.json())"
   ]
  }
 ],
 "metadata": {
  "language_info": {
   "name": "python"
  }
 },
 "nbformat": 4,
 "nbformat_minor": 2
}
