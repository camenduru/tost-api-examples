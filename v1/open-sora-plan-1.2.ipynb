{
 "cells": [
  {
   "cell_type": "markdown",
   "metadata": {
    "id": "view-in-github"
   },
   "source": [
    "[![Open In Colab](https://colab.research.google.com/assets/colab-badge.svg)](https://colab.research.google.com/github/camenduru/tost-api-examples/blob/main/v1/open-sora-plan-1.2.ipynb)"
   ]
  },
  {
   "cell_type": "code",
   "execution_count": null,
   "metadata": {},
   "outputs": [],
   "source": [
    "import requests\n",
    "\n",
    "url = \"https://tost.ai/api/v1\"\n",
    "headers = {\n",
    "    \"Content-Type\": \"application/json\",\n",
    "    \"Authorization\": \"API_KEY_HERE\"\n",
    "}\n",
    "data = {\n",
    "    \"app\": \"open-sora-plan-1.2\",\n",
    "    \"command\": {\n",
    "        \"prompt\": \"a woman with a vintage hairstyle and bright red lipstick, gazing seductively into the camera, the background blurred to keep the focus solely on her.\",\n",
    "        \"negative_prompt\": \"watermark\",\n",
    "        \"style\": \"(Default)\",\n",
    "        \"use_negative_prompt\": true,\n",
    "        \"seed\": 0,\n",
    "        \"schedule\": \"EulerA-Solver\",\n",
    "        \"guidance_scale\": 10,\n",
    "        \"num_inference_steps\": 50,\n",
    "        \"randomize_seed\": false,\n",
    "        \"num_frames\": 93,\n",
    "        \"width\": 1280,\n",
    "        \"height\": 720\n",
    "    }\n",
    "}\n",
    "\n",
    "response = requests.post(url, headers=headers, json=data)\n",
    "print(response.json())"
   ]
  }
 ],
 "metadata": {
  "language_info": {
   "name": "python"
  }
 },
 "nbformat": 4,
 "nbformat_minor": 2
}
