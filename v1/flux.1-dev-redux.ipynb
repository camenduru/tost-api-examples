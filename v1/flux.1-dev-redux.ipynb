{
 "cells": [
  {
   "cell_type": "markdown",
   "metadata": {
    "id": "view-in-github"
   },
   "source": [
    "[![Open In Colab](https://colab.research.google.com/assets/colab-badge.svg)](https://colab.research.google.com/github/camenduru/tost-api-examples/blob/main/v1/flux.1-dev-redux.ipynb)"
   ]
  },
  {
   "cell_type": "code",
   "execution_count": null,
   "metadata": {},
   "outputs": [],
   "source": [
    "import requests\n",
    "\n",
    "url = \"https://tost.ai/api/v1\"\n",
    "headers = {\n",
    "    \"Content-Type\": \"application/json\",\n",
    "    \"Authorization\": \"API_KEY_HERE\"\n",
    "}\n",
    "data = {\n",
    "    \"app\": \"flux.1-dev-redux\",\n",
    "    \"command\": {\n",
    "        \"input_image1\": \"https://files.catbox.moe/jca2xm.jpg\",\n",
    "        \"input_image2\": \"https://files.catbox.moe/mkcchl.jpg\",\n",
    "        \"positive_prompt\": \"cute\",\n",
    "        \"negative_prompt\": \"blurry\",\n",
    "        \"seed\": 0,\n",
    "        \"steps\": 20,\n",
    "        \"guidance\": 30,\n",
    "        \"sampler_name\": \"euler\",\n",
    "        \"scheduler\": \"normal\",\n",
    "        \"max_shift\": 1.15,\n",
    "        \"base_shift\": 0.5,\n",
    "        \"width\": 1024,\n",
    "        \"height\": 1024\n",
    "    }\n",
    "}\n",
    "\n",
    "response = requests.post(url, headers=headers, json=data)\n",
    "print(response.json())"
   ]
  }
 ],
 "metadata": {
  "language_info": {
   "name": "python"
  }
 },
 "nbformat": 4,
 "nbformat_minor": 2
}
