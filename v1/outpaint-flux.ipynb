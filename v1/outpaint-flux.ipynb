{
 "cells": [
  {
   "cell_type": "markdown",
   "metadata": {
    "id": "view-in-github"
   },
   "source": [
    "[![Open In Colab](https://colab.research.google.com/assets/colab-badge.svg)](https://colab.research.google.com/github/camenduru/tost-api-examples/blob/main/v1/outpaint-flux.ipynb)"
   ]
  },
  {
   "cell_type": "code",
   "execution_count": null,
   "metadata": {},
   "outputs": [],
   "source": [
    "import requests\n",
    "\n",
    "url = \"https://tost.ai/api/v1\"\n",
    "headers = {\n",
    "    \"Content-Type\": \"application/json\",\n",
    "    \"Authorization\": \"API_KEY_HERE\"\n",
    "}\n",
    "data = {\n",
    "    \"app\": \"outpaint-flux\",\n",
    "    \"command\": {\n",
    "        \"input_image\": \"https://files.catbox.moe/ct5416.png\",\n",
    "        \"left_percent\": 0,\n",
    "        \"right_percent\": 0,\n",
    "        \"top_percent\": 0,\n",
    "        \"bottom_percent\": 0,\n",
    "        \"aspect_ratio_width\": 16,\n",
    "        \"aspect_ratio_height\": 9,\n",
    "        \"aspect_ratio_toggle\": True,\n",
    "        \"seed\": 24,\n",
    "        \"prompt_toggle\": True,\n",
    "        \"positive_prompt\": \" \",\n",
    "        \"negative_prompt\": \" \",\n",
    "        \"num_inference_steps\": 28,\n",
    "        \"controlnet_conditioning_scale\": 0.9,\n",
    "        \"guidance_scale\": 3.5,\n",
    "        \"true_guidance_scale\": 3.5,\n",
    "        \"vlm_prompt\": \"A descriptive caption for this image:\\n\",\n",
    "        \"max_new_tokens\": 300,\n",
    "        \"top_k\": 10,\n",
    "        \"temperature\": 0.5\n",
    "    }\n",
    "}\n",
    "\n",
    "response = requests.post(url, headers=headers, json=data)\n",
    "print(response.json())"
   ]
  }
 ],
 "metadata": {
  "language_info": {
   "name": "python"
  }
 },
 "nbformat": 4,
 "nbformat_minor": 2
}
