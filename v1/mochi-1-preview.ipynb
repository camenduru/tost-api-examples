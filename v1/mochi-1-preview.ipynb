{
 "cells": [
  {
   "cell_type": "markdown",
   "metadata": {
    "id": "view-in-github"
   },
   "source": [
    "[![Open In Colab](https://colab.research.google.com/assets/colab-badge.svg)](https://colab.research.google.com/github/camenduru/tost-api-examples/blob/main/v1/mochi-1-preview.ipynb)"
   ]
  },
  {
   "cell_type": "code",
   "execution_count": null,
   "metadata": {},
   "outputs": [],
   "source": [
    "import requests\n",
    "\n",
    "url = \"https://tost.ai/api/v1\"\n",
    "headers = {\n",
    "    \"Content-Type\": \"application/json\",\n",
    "    \"Authorization\": \"API_KEY_HERE\"\n",
    "}\n",
    "data = {\n",
    "    \"app\": \"mochi-1-preview\",\n",
    "    \"command\": {\n",
    "        \"positive_prompt\": \"nature video of a red panda eating bamboo in front of a waterfall\",\n",
    "        \"negative_prompt\": \"blurry\",\n",
    "        \"seed\": 0,\n",
    "        \"steps\": 50,\n",
    "        \"cfg\": 4.5,\n",
    "        \"num_frames\": 127,\n",
    "        \"width\": 848,\n",
    "        \"height\": 480\n",
    "    }\n",
    "}\n",
    "\n",
    "response = requests.post(url, headers=headers, json=data)\n",
    "print(response.json())"
   ]
  }
 ],
 "metadata": {
  "language_info": {
   "name": "python"
  }
 },
 "nbformat": 4,
 "nbformat_minor": 2
}
