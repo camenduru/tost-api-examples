{
 "cells": [
  {
   "cell_type": "markdown",
   "metadata": {
    "id": "view-in-github"
   },
   "source": [
    "[![Open In Colab](https://colab.research.google.com/assets/colab-badge.svg)](https://colab.research.google.com/github/camenduru/tost-api-examples/blob/main/v1/t2v-turbo.ipynb)"
   ]
  },
  {
   "cell_type": "code",
   "execution_count": null,
   "metadata": {},
   "outputs": [],
   "source": [
    "import requests\n",
    "\n",
    "url = \"https://tost.ai/api/v1\"\n",
    "headers = {\n",
    "    \"Content-Type\": \"application/json\",\n",
    "    \"Authorization\": \"API_KEY_HERE\"\n",
    "}\n",
    "data = {\n",
    "    \"app\": \"t2v-turbo\",\n",
    "    \"command\": {\n",
    "        \"prompt\": \"Clown fish swimming through the coral reef.\",\n",
    "        \"guidance_scale\": 7.5,\n",
    "        \"num_inference_steps\": 4,\n",
    "        \"num_frames\": 16,\n",
    "        \"fps\": 16,\n",
    "        \"seed\": 1234,\n",
    "        \"randomize_seed\": True\n",
    "    }\n",
    "}\n",
    "\n",
    "response = requests.post(url, headers=headers, json=data)\n",
    "print(response.json())"
   ]
  }
 ],
 "metadata": {
  "language_info": {
   "name": "python"
  }
 },
 "nbformat": 4,
 "nbformat_minor": 2
}
