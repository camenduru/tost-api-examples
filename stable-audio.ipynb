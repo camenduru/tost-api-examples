{
 "cells": [
  {
   "cell_type": "markdown",
   "metadata": {
    "id": "view-in-github"
   },
   "source": [
    "[![Open In Colab](https://colab.research.google.com/assets/colab-badge.svg)](https://colab.research.google.com/github/camenduru/tost-api-examples/blob/main/stable-audio.ipynb)"
   ]
  },
  {
   "cell_type": "code",
   "execution_count": null,
   "metadata": {},
   "outputs": [],
   "source": [
    "import requests\n",
    "\n",
    "url = \"https://tost.ai/api/v1\"\n",
    "headers = {\n",
    "    \"Content-Type\": \"application/json\",\n",
    "    \"Authorization\": \"API_KEY_HERE\"\n",
    "}\n",
    "data = {\n",
    "    \"app\": \"stable-audio\",\n",
    "    \"command\": {\n",
    "        \"prompt\": \"rock\",\n",
    "        \"seconds_start\": 0,\n",
    "        \"seconds_total\": 30,\n",
    "        \"steps\": 100,\n",
    "        \"cfg_scale\": 7,\n",
    "        \"sigma_min\": 0.3,\n",
    "        \"sigma_max\": 500,\n",
    "        \"sampler_type\": \"dpmpp-3m-sde\"\n",
    "    }\n",
    "}\n",
    "\n",
    "response = requests.post(url, headers=headers, json=data)\n",
    "print(response.json())"
   ]
  }
 ],
 "metadata": {
  "language_info": {
   "name": "python"
  }
 },
 "nbformat": 4,
 "nbformat_minor": 2
}
